{
 "cells": [
  {
   "cell_type": "markdown",
   "id": "478dc276",
   "metadata": {},
   "source": [
    "#Author - Wonho Lim\n",
    "#-mail\n",
    "\n",
    "#Utilize BS4 and Selenium for Crwaling\n",
    "\n",
    "import bs4\n",
    "import selenium\n",
    "from selenium import webdriver\n",
    "import time\n",
    "from selenium.webdriver.common.keys import Keys\n",
    "from selenium.webdriver.support.select import Select\n",
    "from selenium.webdriver.common.by import By\n",
    "import csv "
   ]
  },
  {
   "cell_type": "code",
   "execution_count": null,
   "id": "769be9e7",
   "metadata": {},
   "outputs": [],
   "source": [
    "#Utilize BS4 and Selenium for Crwaling\n",
    "\n",
    "import bs4\n",
    "import selenium\n",
    "from selenium import webdriver\n",
    "import time\n",
    "from selenium.webdriver.common.keys import Keys\n",
    "from selenium.webdriver.support.select import Select\n",
    "from selenium.webdriver.common.by import By\n",
    "import csv "
   ]
  },
  {
   "cell_type": "code",
   "execution_count": 2,
   "id": "bd8ade1d",
   "metadata": {},
   "outputs": [],
   "source": [
    "#Use chromedriver for automated crawling - address can be modified\n",
    "path = 'C:\\\\Users\\\\DT\\\\Desktop\\\\자료\\\\chromedriver'"
   ]
  },
  {
   "cell_type": "code",
   "execution_count": 3,
   "id": "5a5fe8c2",
   "metadata": {},
   "outputs": [
    {
     "data": {
      "text/plain": [
       "433"
      ]
     },
     "execution_count": 3,
     "metadata": {},
     "output_type": "execute_result"
    }
   ],
   "source": [
    "#Basic setting for csv file that will store 재무정보 data - Order of rows are based on 재무정보 데이터소스\n",
    "cover = open('DutchData.csv','w', newline='', encoding='CP949')\n",
    "writing = csv.writer(cover)\n",
    "writing.writerow(['헤브론스타국가코드', '현지언어국가명','영문국가명','국가언어코드값','현지언어명','영문언어명','현지언어기업명','통화구분코드','화폐단위명','영문기업명','법인등록번호','사업자등록번호','현지언어산업군명','영문산업군명','설립일자','주식시장코드','현지언어주식시장명','영문주식시장명','상장코드','상장일자','회계연도','회계분기','유동자산금액','비유동자산금액','자산총계금액','유동부채금액','비유동부채금액','부채총계금액','자본총계금액','부채자본총계금액','매출액','매출원가금액','판매비관리비금액','이자비용','기타영업외비용금액','영업이익손실금액','이자수익','기타영업외수익금액','법인세차감전순이익','당기순이익','영업활동현금흐름금액','투자활동현금흐름금액','재무활동현금흐름금액','기초현금자산금액','기말현금자산금액','부채비율','영업이익율','매출액증가율','영업이익증가율','당기순이익 증가율','기업CAGR','기업 연수','기업 상태','기업추가정보값','작업구분코드','데이터생성일자','연계처리상태코드','연계처리일자'])"
   ]
  },
  {
   "cell_type": "code",
   "execution_count": 4,
   "id": "3e41d0c1",
   "metadata": {
    "scrolled": false
   },
   "outputs": [
    {
     "name": "stderr",
     "output_type": "stream",
     "text": [
      "C:\\Users\\DT\\AppData\\Local\\Temp\\ipykernel_13100\\3367449046.py:3: DeprecationWarning: executable_path has been deprecated, please pass in a Service object\n",
      "  driver = webdriver.Chrome(path)\n"
     ]
    },
    {
     "name": "stdout",
     "output_type": "stream",
     "text": [
      "188\n",
      "['NLD', 'Nederland', 'Nederlands', 'NL', 'Nederlands', 'Dutch', 'AALBERTS N.V.', 'EUR', '유로', 'AALBERTS N.V.', '(NA)법인등록번호', '(NA)사업자등록번호', '5020, Industrial Goods and Services', '5020, Industrial Goods and Services', '(NA) 설립일자', '(NA) 시장코드', 'EURONEXT AMSTERDAM', 'EURONEXT AMSTERDAM', '(NA) 상장코드', 'NA 상장일자', 'Source: Cofisem - Last Update: 22 Apr 2022', '(NA) 회계분기', '(NA) 유동자산금액', '(NA) 비유동자산금액', '(NA) 자산총계금액', '(NA) 유동부채금액', '(NA) 비유동부채금액', '(NA) 부채총계금액', '(NA) 자본총계금액', '(NA) 부채자본총계금액', '2.979.100천 유로', '(NA) 매출원가금액', '(NA) 판매비관리비금액', '13.400천 유로', '(NA) 기타영업외비용금액', '506.100천 유로', '(NA) 이자수입', '(NA) 기타영업외수익금액', '(계산예정)법인세차감전순이익', '367.800천 유로', '(NA) 영업활동현금흐름금액', '(NA) 투자활동현금흐름금액', '(NA) 재무활동현금흐름금액', '(NA) 기초현금자산금액', '(NA) 기말현금자산금액', '(NA) 부채비율', '(계산예정)영업이익율', '(계산예정)매출액증가율', '(계산예정)영업이익증가율', '(계산예정)당기순이익 증가율', '(계산예정)기업CAGR', '(계산예정)기업 연수', '(계산예정)기업 상태', '주당 가치: € 45.28', None, '(NA) 작업구분코드', '17/05/2022 - 17:40  CET', None, '(NA) 연계처리상태코드', '(NA) 연계처리일자']\n",
      "['NLD', 'Nederland', 'Nederlands', 'NL', 'Nederlands', 'Dutch', 'ABN AMRO BANK N.V.', 'EUR', '유로', 'ABN AMRO BANK N.V.', '(NA)법인등록번호', '(NA)사업자등록번호', '3010, Banks', '3010, Banks', '(NA) 설립일자', '(NA) 시장코드', 'EURONEXT AMSTERDAM', 'EURONEXT AMSTERDAM', '(NA) 상장코드', 'NA 상장일자', 'Account Standards', '(NA) 회계분기', '(NA) 유동자산금액', '(NA) 비유동자산금액', '(NA) 자산총계금액', '(NA) 유동부채금액', '(NA) 비유동부채금액', '(NA) 부채총계금액', '(NA) 자본총계금액', '(NA) 부채자본총계금액', '7.597.000천 유로', '(NA) 매출원가금액', '(NA) 판매비관리비금액', '46.000천 유로', '(NA) 기타영업외비용금액', '1.792.000천 유로', '(NA) 이자수입', '(NA) 기타영업외수익금액', '(계산예정)법인세차감전순이익', '1.838.000천 유로', '(NA) 영업활동현금흐름금액', '(NA) 투자활동현금흐름금액', '(NA) 재무활동현금흐름금액', '(NA) 기초현금자산금액', '(NA) 기말현금자산금액', '(NA) 부채비율', '(계산예정)영업이익율', '(계산예정)매출액증가율', '(계산예정)영업이익증가율', '(계산예정)당기순이익 증가율', '(계산예정)기업CAGR', '(계산예정)기업 연수', '(계산예정)기업 상태', '주당 가치: € 11.91', None, '(NA) 작업구분코드', '17/05/2022 - 17:40  CET', None, '(NA) 연계처리상태코드', '(NA) 연계처리일자']\n",
      "['NLD', 'Nederland', 'Nederlands', 'NL', 'Nederlands', 'Dutch', 'Accell Group N.V.', 'EUR', '유로', 'Accell Group N.V.', '(NA)법인등록번호', '(NA)사업자등록번호', '4020, Consumer Products and Services', '4020, Consumer Products and Services', '(NA) 설립일자', '(NA) 시장코드', 'EURONEXT AMSTERDAM', 'EURONEXT AMSTERDAM', '(NA) 상장코드', 'NA 상장일자', 'Source: Cofisem - Last Update: 20 Mar 2022', '(NA) 회계분기', '(NA) 유동자산금액', '(NA) 비유동자산금액', '(NA) 자산총계금액', '(NA) 유동부채금액', '(NA) 비유동부채금액', '(NA) 부채총계금액', '(NA) 자본총계금액', '(NA) 부채자본총계금액', '1.377.112천 유로', '(NA) 매출원가금액', '(NA) 판매비관리비금액', '10.555천 유로', '(NA) 기타영업외비용금액', '110.056천 유로', '(NA) 이자수입', '(NA) 기타영업외수익금액', '(계산예정)법인세차감전순이익', '69.974천 유로', '(NA) 영업활동현금흐름금액', '(NA) 투자활동현금흐름금액', '(NA) 재무활동현금흐름금액', '(NA) 기초현금자산금액', '(NA) 기말현금자산금액', '(NA) 부채비율', '(계산예정)영업이익율', '(계산예정)매출액증가율', '(계산예정)영업이익증가율', '(계산예정)당기순이익 증가율', '(계산예정)기업CAGR', '(계산예정)기업 연수', '(계산예정)기업 상태', '주당 가치: € 54.30', None, '(NA) 작업구분코드', '17/05/2022 - 17:40  CET', None, '(NA) 연계처리상태코드', '(NA) 연계처리일자']\n",
      "['NLD', 'Nederland', 'Nederlands', 'NL', 'Nederlands', 'Dutch', 'ACCSYS TECHNOLOGIES PLC', 'EUR', '유로', 'ACCSYS TECHNOLOGIES PLC', '(NA)법인등록번호', '(NA)사업자등록번호', '5010, Construction and Materials', '5010, Construction and Materials', '(NA) 설립일자', '(NA) 시장코드', 'EURONEXT AMSTERDAM', 'EURONEXT AMSTERDAM', '(NA) 상장코드', 'NA 상장일자', 'Source: Cofisem - Last Update: 10 Mar 2022', '(NA) 회계분기', '(NA) 유동자산금액', '(NA) 비유동자산금액', '(NA) 자산총계금액', '(NA) 유동부채금액', '(NA) 비유동부채금액', '(NA) 부채총계금액', '(NA) 자본총계금액', '(NA) 부채자본총계금액', '99.803천 유로', '(NA) 매출원가금액', '(NA) 판매비관리비금액', '3.249천 유로', '(NA) 기타영업외비용금액', '4.633천 유로', '(NA) 이자수입', '(NA) 기타영업외수익금액', '(계산예정)법인세차감전순이익', '-911천 유로', '(NA) 영업활동현금흐름금액', '(NA) 투자활동현금흐름금액', '(NA) 재무활동현금흐름금액', '(NA) 기초현금자산금액', '(NA) 기말현금자산금액', '(NA) 부채비율', '(계산예정)영업이익율', '(계산예정)매출액증가율', '(계산예정)영업이익증가율', '(계산예정)당기순이익 증가율', '(계산예정)기업CAGR', '(계산예정)기업 연수', '(계산예정)기업 상태', '주당 가치: € 1.602', None, '(NA) 작업구분코드', '17/05/2022 - 17:40  CET', None, '(NA) 연계처리상태코드', '(NA) 연계처리일자']\n",
      "['NLD', 'Nederland', 'Nederlands', 'NL', 'Nederlands', 'Dutch', 'ADUX', 'EUR', '유로', 'ADUX', '(NA)법인등록번호', '(NA)사업자등록번호', '4030, Media', '4030, Media', '(NA) 설립일자', '(NA) 시장코드', 'EURONEXT AMSTERDAM', 'EURONEXT AMSTERDAM', '(NA) 상장코드', 'NA 상장일자', 'Source: Cofisem - Last Update: 11 May 2022', '(NA) 회계분기', '(NA) 유동자산금액', '(NA) 비유동자산금액', '(NA) 자산총계금액', '(NA) 유동부채금액', '(NA) 비유동부채금액', '(NA) 부채총계금액', '(NA) 자본총계금액', '(NA) 부채자본총계금액', '23.952천 유로', '(NA) 매출원가금액', '(NA) 판매비관리비금액', '56천 유로', '(NA) 기타영업외비용금액', '639천 유로', '(NA) 이자수입', '(NA) 기타영업외수익금액', '(계산예정)법인세차감전순이익', '227천 유로', '(NA) 영업활동현금흐름금액', '(NA) 투자활동현금흐름금액', '(NA) 재무활동현금흐름금액', '(NA) 기초현금자산금액', '(NA) 기말현금자산금액', '(NA) 부채비율', '(계산예정)영업이익율', '(계산예정)매출액증가율', '(계산예정)영업이익증가율', '(계산예정)당기순이익 증가율', '(계산예정)기업CAGR', '(계산예정)기업 연수', '(계산예정)기업 상태', '주당 가치: € 1.90', None, '(NA) 작업구분코드', '17/05/2022 - 17:40  CET', None, '(NA) 연계처리상태코드', '(NA) 연계처리일자']\n",
      "['NLD', 'Nederland', 'Nederlands', 'NL', 'Nederlands', 'Dutch', 'ADYEN', 'EUR', '유로', 'ADYEN', '(NA)법인등록번호', '(NA)사업자등록번호', '5020, Industrial Goods and Services', '5020, Industrial Goods and Services', '(NA) 설립일자', '(NA) 시장코드', 'EURONEXT AMSTERDAM', 'EURONEXT AMSTERDAM', '(NA) 상장코드', 'NA 상장일자', 'Source: Cofisem - Last Update: 17 May 2022', '(NA) 회계분기', '(NA) 유동자산금액', '(NA) 비유동자산금액', '(NA) 자산총계금액', '(NA) 유동부채금액', '(NA) 비유동부채금액', '(NA) 부채총계금액', '(NA) 자본총계금액', '(NA) 부채자본총계금액', '5.995.419천 유로', '(NA) 매출원가금액', '(NA) 판매비관리비금액', '11.749천 유로', '(NA) 기타영업외비용금액', '594.981천 유로', '(NA) 이자수입', '(NA) 기타영업외수익금액', '(계산예정)법인세차감전순이익', '469.717천 유로', '(NA) 영업활동현금흐름금액', '(NA) 투자활동현금흐름금액', '(NA) 재무활동현금흐름금액', '(NA) 기초현금자산금액', '(NA) 기말현금자산금액', '(NA) 부채비율', '(계산예정)영업이익율', '(계산예정)매출액증가율', '(계산예정)영업이익증가율', '(계산예정)당기순이익 증가율', '(계산예정)기업CAGR', '(계산예정)기업 연수', '(계산예정)기업 상태', '주당 가치: € 1,469.00', None, '(NA) 작업구분코드', '17/05/2022 - 17:40  CET', None, '(NA) 연계처리상태코드', '(NA) 연계처리일자']\n",
      "['NLD', 'Nederland', 'Nederlands', 'NL', 'Nederlands', 'Dutch', 'AEDIFICA', 'EUR', '유로', 'AEDIFICA', '(NA)법인등록번호', '(NA)사업자등록번호', '3510, Real Estate', '3510, Real Estate', '(NA) 설립일자', '(NA) 시장코드', 'EURONEXT AMSTERDAM', 'EURONEXT AMSTERDAM', '(NA) 상장코드', 'NA 상장일자', 'Currency & Unit', '(NA) 회계분기', '(NA) 유동자산금액', '(NA) 비유동자산금액', '(NA) 자산총계금액', '(NA) 유동부채금액', '(NA) 비유동부채금액', '(NA) 부채총계금액', '(NA) 자본총계금액', '(NA) 부채자본총계금액', '232.118천 유로', '(NA) 매출원가금액', '(NA) 판매비관리비금액', '534천 유로', '(NA) 기타영업외비용금액', '1.583천 유로', '(NA) 이자수입', '(NA) 기타영업외수익금액', '(계산예정)법인세차감전순이익', '6.371천 유로', '(NA) 영업활동현금흐름금액', '(NA) 투자활동현금흐름금액', '(NA) 재무활동현금흐름금액', '(NA) 기초현금자산금액', '(NA) 기말현금자산금액', '(NA) 부채비율', '(계산예정)영업이익율', '(계산예정)매출액증가율', '(계산예정)영업이익증가율', '(계산예정)당기순이익 증가율', '(계산예정)기업CAGR', '(계산예정)기업 연수', '(계산예정)기업 상태', '주당 가치: € 110.00', None, '(NA) 작업구분코드', '17/05/2022 - 17:40  CET', None, '(NA) 연계처리상태코드', '(NA) 연계처리일자']\n",
      "['NLD', 'Nederland', 'Nederlands', 'NL', 'Nederlands', 'Dutch', 'AEGON', 'EUR', '유로', 'AEGON', '(NA)법인등록번호', '(NA)사업자등록번호', '3030, Insurance', '3030, Insurance', '(NA) 설립일자', '(NA) 시장코드', 'EURONEXT AMSTERDAM', 'EURONEXT AMSTERDAM', '(NA) 상장코드', 'NA 상장일자', 'Currency & Unit', '(NA) 회계분기', '(NA) 유동자산금액', '(NA) 비유동자산금액', '(NA) 자산총계금액', '(NA) 유동부채금액', '(NA) 비유동부채금액', '(NA) 부채총계금액', '(NA) 자본총계금액', '(NA) 부채자본총계금액', '15.444.000천 유로', '(NA) 매출원가금액', '(NA) 판매비관리비금액', '53.423.000천 유로', '(NA) 기타영업외비용금액', '30.815.000천 유로', '(NA) 이자수입', '(NA) 기타영업외수익금액', '(계산예정)법인세차감전순이익', '377.000천 유로', '(NA) 영업활동현금흐름금액', '(NA) 투자활동현금흐름금액', '(NA) 재무활동현금흐름금액', '(NA) 기초현금자산금액', '(NA) 기말현금자산금액', '(NA) 부채비율', '(계산예정)영업이익율', '(계산예정)매출액증가율', '(계산예정)영업이익증가율', '(계산예정)당기순이익 증가율', '(계산예정)기업CAGR', '(계산예정)기업 연수', '(계산예정)기업 상태', '주당 가치: € 5.056', None, '(NA) 작업구분코드', '17/05/2022 - 17:40  CET', None, '(NA) 연계처리상태코드', '(NA) 연계처리일자']\n",
      "['NLD', 'Nederland', 'Nederlands', 'NL', 'Nederlands', 'Dutch', 'KONINKLIJKE AHOLD DELHAIZE N.V.', 'EUR', '유로', 'KONINKLIJKE AHOLD DELHAIZE N.V.', '(NA)법인등록번호', '(NA)사업자등록번호', '4520, Personal Care, Drug and Grocery Stores', '4520, Personal Care, Drug and Grocery Stores', '(NA) 설립일자', '(NA) 시장코드', 'EURONEXT AMSTERDAM', 'EURONEXT AMSTERDAM', '(NA) 상장코드', 'NA 상장일자', 'Source: Cofisem - Last Update: 11 May 2022', '(NA) 회계분기', '(NA) 유동자산금액', '(NA) 비유동자산금액', '(NA) 자산총계금액', '(NA) 유동부채금액', '(NA) 비유동부채금액', '(NA) 부채총계금액', '(NA) 자본총계금액', '(NA) 부채자본총계금액', '75.601.000천 유로', '(NA) 매출원가금액', '(NA) 판매비관리비금액', '506.000천 유로', '(NA) 기타영업외비용금액', '3.320.000천 유로', '(NA) 이자수입', '(NA) 기타영업외수익금액', '(계산예정)법인세차감전순이익', '2.246.000천 유로', '(NA) 영업활동현금흐름금액', '(NA) 투자활동현금흐름금액', '(NA) 재무활동현금흐름금액', '(NA) 기초현금자산금액', '(NA) 기말현금자산금액', '(NA) 부채비율', '(계산예정)영업이익율', '(계산예정)매출액증가율', '(계산예정)영업이익증가율', '(계산예정)당기순이익 증가율', '(계산예정)기업CAGR', '(계산예정)기업 연수', '(계산예정)기업 상태', '주당 가치: € 26.585', None, '(NA) 작업구분코드', '17/05/2022 - 17:40  CET', None, '(NA) 연계처리상태코드', '(NA) 연계처리일자']\n"
     ]
    },
    {
     "name": "stdout",
     "output_type": "stream",
     "text": [
      "['NLD', 'Nederland', 'Nederlands', 'NL', 'Nederlands', 'Dutch', 'AIR FRANCE -KLM', 'EUR', '유로', 'AIR FRANCE -KLM', '(NA)법인등록번호', '(NA)사업자등록번호', '4050, Travel and Leisure', '4050, Travel and Leisure', '(NA) 설립일자', '(NA) 시장코드', 'EURONEXT AMSTERDAM', 'EURONEXT AMSTERDAM', '(NA) 상장코드', 'NA 상장일자', 'Source: Cofisem - Last Update: 17 May 2022', '(NA) 회계분기', '(NA) 유동자산금액', '(NA) 비유동자산금액', '(NA) 자산총계금액', '(NA) 유동부채금액', '(NA) 비유동부채금액', '(NA) 부채총계금액', '(NA) 자본총계금액', '(NA) 부채자본총계금액', '14.315.000천 유로', '(NA) 매출원가금액', '(NA) 판매비관리비금액', '728.000천 유로', '(NA) 기타영업외비용금액', '-2.532.000천 유로', '(NA) 이자수입', '(NA) 기타영업외수익금액', '(계산예정)법인세차감전순이익', '-3.294.000천 유로', '(NA) 영업활동현금흐름금액', '(NA) 투자활동현금흐름금액', '(NA) 재무활동현금흐름금액', '(NA) 기초현금자산금액', '(NA) 기말현금자산금액', '(NA) 부채비율', '(계산예정)영업이익율', '(계산예정)매출액증가율', '(계산예정)영업이익증가율', '(계산예정)당기순이익 증가율', '(계산예정)기업CAGR', '(계산예정)기업 연수', '(계산예정)기업 상태', '주당 가치: € 3.962', None, '(NA) 작업구분코드', '17/05/2022 - 17:40  CET', None, '(NA) 연계처리상태코드', '(NA) 연계처리일자']\n",
      "['NLD', 'Nederland', 'Nederlands', 'NL', 'Nederlands', 'Dutch', 'AJAX', 'EUR', '유로', 'AJAX', '(NA)법인등록번호', '(NA)사업자등록번호', '4050, Travel and Leisure', '4050, Travel and Leisure', '(NA) 설립일자', '(NA) 시장코드', 'EURONEXT AMSTERDAM', 'EURONEXT AMSTERDAM', '(NA) 상장코드', 'NA 상장일자', 'Source: Cofisem - Last Update: 11 Mar 2022', '(NA) 회계분기', '(NA) 유동자산금액', '(NA) 비유동자산금액', '(NA) 자산총계금액', '(NA) 유동부채금액', '(NA) 비유동부채금액', '(NA) 부채총계금액', '(NA) 자본총계금액', '(NA) 부채자본총계금액', '125.159천 유로', '(NA) 매출원가금액', '(NA) 판매비관리비금액', '1.818천 유로', '(NA) 기타영업외비용금액', '-7.590천 유로', '(NA) 이자수입', '(NA) 기타영업외수익금액', '(계산예정)법인세차감전순이익', '-8.105천 유로', '(NA) 영업활동현금흐름금액', '(NA) 투자활동현금흐름금액', '(NA) 재무활동현금흐름금액', '(NA) 기초현금자산금액', '(NA) 기말현금자산금액', '(NA) 부채비율', '(계산예정)영업이익율', '(계산예정)매출액증가율', '(계산예정)영업이익증가율', '(계산예정)당기순이익 증가율', '(계산예정)기업CAGR', '(계산예정)기업 연수', '(계산예정)기업 상태', '주당 가치: € 12.30', None, '(NA) 작업구분코드', '17/05/2022 - 17:40  CET', None, '(NA) 연계처리상태코드', '(NA) 연계처리일자']\n",
      "['NLD', 'Nederland', 'Nederlands', 'NL', 'Nederlands', 'Dutch', 'AKZO NOBEL', 'EUR', '유로', 'AKZO NOBEL', '(NA)법인등록번호', '(NA)사업자등록번호', '5520, Chemicals', '5520, Chemicals', '(NA) 설립일자', '(NA) 시장코드', 'EURONEXT AMSTERDAM', 'EURONEXT AMSTERDAM', '(NA) 상장코드', 'NA 상장일자', 'Source: Cofisem - Last Update: 25 Apr 2022', '(NA) 회계분기', '(NA) 유동자산금액', '(NA) 비유동자산금액', '(NA) 자산총계금액', '(NA) 유동부채금액', '(NA) 비유동부채금액', '(NA) 부채총계금액', '(NA) 자본총계금액', '(NA) 부채자본총계금액', '9.587.000천 유로', '(NA) 매출원가금액', '(NA) 판매비관리비금액', '62.000천 유로', '(NA) 기타영업외비용금액', '1.118.000천 유로', '(NA) 이자수입', '(NA) 기타영업외수익금액', '(계산예정)법인세차감전순이익', '865.000천 유로', '(NA) 영업활동현금흐름금액', '(NA) 투자활동현금흐름금액', '(NA) 재무활동현금흐름금액', '(NA) 기초현금자산금액', '(NA) 기말현금자산금액', '(NA) 부채비율', '(계산예정)영업이익율', '(계산예정)매출액증가율', '(계산예정)영업이익증가율', '(계산예정)당기순이익 증가율', '(계산예정)기업CAGR', '(계산예정)기업 연수', '(계산예정)기업 상태', '주당 가치: € 81.40', None, '(NA) 작업구분코드', '17/05/2022 - 17:40  CET', None, '(NA) 연계처리상태코드', '(NA) 연계처리일자']\n",
      "['NLD', 'Nederland', 'Nederlands', 'NL', 'Nederlands', 'Dutch', 'ALFEN', 'EUR', '유로', 'ALFEN', '(NA)법인등록번호', '(NA)사업자등록번호', '5020, Industrial Goods and Services', '5020, Industrial Goods and Services', '(NA) 설립일자', '(NA) 시장코드', 'EURONEXT AMSTERDAM', 'EURONEXT AMSTERDAM', '(NA) 상장코드', 'NA 상장일자', 'Source: Cofisem - Last Update: 17 May 2022', '(NA) 회계분기', '(NA) 유동자산금액', '(NA) 비유동자산금액', '(NA) 자산총계금액', '(NA) 유동부채금액', '(NA) 비유동부채금액', '(NA) 부채총계금액', '(NA) 자본총계금액', '(NA) 부채자본총계금액', '249.679천 유로', '(NA) 매출원가금액', '(NA) 판매비관리비금액', '992천 유로', '(NA) 기타영업외비용금액', '27.690천 유로', '(NA) 이자수입', '(NA) 기타영업외수익금액', '(계산예정)법인세차감전순이익', '21.450천 유로', '(NA) 영업활동현금흐름금액', '(NA) 투자활동현금흐름금액', '(NA) 재무활동현금흐름금액', '(NA) 기초현금자산금액', '(NA) 기말현금자산금액', '(NA) 부채비율', '(계산예정)영업이익율', '(계산예정)매출액증가율', '(계산예정)영업이익증가율', '(계산예정)당기순이익 증가율', '(계산예정)기업CAGR', '(계산예정)기업 연수', '(계산예정)기업 상태', '주당 가치: € 94.42', None, '(NA) 작업구분코드', '17/05/2022 - 17:40  CET', None, '(NA) 연계처리상태코드', '(NA) 연계처리일자']\n",
      "['NLD', 'Nederland', 'Nederlands', 'NL', 'Nederlands', 'Dutch', 'ALLFUNDS GROUP PLC', 'EUR', '유로', 'ALLFUNDS GROUP PLC', '(NA)법인등록번호', '(NA)사업자등록번호', '3020, Financial Services', '3020, Financial Services', '(NA) 설립일자', '(NA) 시장코드', 'EURONEXT AMSTERDAM', 'EURONEXT AMSTERDAM', '(NA) 상장코드', 'NA 상장일자', 'Fiscal year end', '(NA) 회계분기', '(NA) 유동자산금액', '(NA) 비유동자산금액', '(NA) 자산총계금액', '(NA) 유동부채금액', '(NA) 비유동부채금액', '(NA) 부채총계금액', '(NA) 자본총계금액', '(NA) 부채자본총계금액', '천 유로', '(NA) 매출원가금액', '(NA) 판매비관리비금액', '천 유로', '(NA) 기타영업외비용금액', '505.689천 유로', '(NA) 이자수입', '(NA) 기타영업외수익금액', '(계산예정)법인세차감전순이익', '91.757천 유로', '(NA) 영업활동현금흐름금액', '(NA) 투자활동현금흐름금액', '(NA) 재무활동현금흐름금액', '(NA) 기초현금자산금액', '(NA) 기말현금자산금액', '(NA) 부채비율', '(계산예정)영업이익율', '(계산예정)매출액증가율', '(계산예정)영업이익증가율', '(계산예정)당기순이익 증가율', '(계산예정)기업CAGR', '(계산예정)기업 연수', '(계산예정)기업 상태', '주당 가치: € 8.145', None, '(NA) 작업구분코드', '17/05/2022 - 17:40  CET', None, '(NA) 연계처리상태코드', '(NA) 연계처리일자']\n",
      "['NLD', 'Nederland', 'Nederlands', 'NL', 'Nederlands', 'Dutch', 'Almunda Professional N.V.', 'EUR', '유로', 'Almunda Professional N.V.', '(NA)법인등록번호', '(NA)사업자등록번호', '5020, Industrial Goods and Services', '5020, Industrial Goods and Services', '(NA) 설립일자', '(NA) 시장코드', 'EURONEXT AMSTERDAM', 'EURONEXT AMSTERDAM', '(NA) 상장코드', 'NA 상장일자', 'Fiscal year end', '(NA) 회계분기', '(NA) 유동자산금액', '(NA) 비유동자산금액', '(NA) 자산총계금액', '(NA) 유동부채금액', '(NA) 비유동부채금액', '(NA) 부채총계금액', '(NA) 자본총계금액', '(NA) 부채자본총계금액', '0천 유로', '(NA) 매출원가금액', '(NA) 판매비관리비금액', '천 유로', '(NA) 기타영업외비용금액', '12.615천 유로', '(NA) 이자수입', '(NA) 기타영업외수익금액', '(계산예정)법인세차감전순이익', '787천 유로', '(NA) 영업활동현금흐름금액', '(NA) 투자활동현금흐름금액', '(NA) 재무활동현금흐름금액', '(NA) 기초현금자산금액', '(NA) 기말현금자산금액', '(NA) 부채비율', '(계산예정)영업이익율', '(계산예정)매출액증가율', '(계산예정)영업이익증가율', '(계산예정)당기순이익 증가율', '(계산예정)기업CAGR', '(계산예정)기업 연수', '(계산예정)기업 상태', '주당 가치: € 1.24', None, '(NA) 작업구분코드', '17/05/2022 - 17:40  CET', None, '(NA) 연계처리상태코드', '(NA) 연계처리일자']\n",
      "['NLD', 'Nederland', 'Nederlands', 'NL', 'Nederlands', 'Dutch', 'ALUMEXX N.V.', 'EUR', '유로', 'ALUMEXX N.V.', '(NA)법인등록번호', '(NA)사업자등록번호', '5520, Chemicals', '5520, Chemicals', '(NA) 설립일자', '(NA) 시장코드', 'EURONEXT AMSTERDAM', 'EURONEXT AMSTERDAM', '(NA) 상장코드', 'NA 상장일자', 'Source: Cofisem - Last Update: 05 May 2022', '(NA) 회계분기', '(NA) 유동자산금액', '(NA) 비유동자산금액', '(NA) 자산총계금액', '(NA) 유동부채금액', '(NA) 비유동부채금액', '(NA) 부채총계금액', '(NA) 자본총계금액', '(NA) 부채자본총계금액', '6.661천 유로', '(NA) 매출원가금액', '(NA) 판매비관리비금액', '7천 유로', '(NA) 기타영업외비용금액', '415천 유로', '(NA) 이자수입', '(NA) 기타영업외수익금액', '(계산예정)법인세차감전순이익', '332천 유로', '(NA) 영업활동현금흐름금액', '(NA) 투자활동현금흐름금액', '(NA) 재무활동현금흐름금액', '(NA) 기초현금자산금액', '(NA) 기말현금자산금액', '(NA) 부채비율', '(계산예정)영업이익율', '(계산예정)매출액증가율', '(계산예정)영업이익증가율', '(계산예정)당기순이익 증가율', '(계산예정)기업CAGR', '(계산예정)기업 연수', '(계산예정)기업 상태', '주당 가치: € 0.76', None, '(NA) 작업구분코드', '17/05/2022 - 17:40  CET', None, '(NA) 연계처리상태코드', '(NA) 연계처리일자']\n",
      "['NLD', 'Nederland', 'Nederlands', 'NL', 'Nederlands', 'Dutch', 'AMG ADVANCED METALLURGICAL GROUP', 'EUR', '유로', 'AMG ADVANCED METALLURGICAL GROUP', '(NA)법인등록번호', '(NA)사업자등록번호', '5020, Industrial Goods and Services', '5020, Industrial Goods and Services', '(NA) 설립일자', '(NA) 시장코드', 'EURONEXT AMSTERDAM', 'EURONEXT AMSTERDAM', '(NA) 상장코드', 'NA 상장일자', 'Source: Cofisem - Last Update: 16 May 2022', '(NA) 회계분기', '(NA) 유동자산금액', '(NA) 비유동자산금액', '(NA) 자산총계금액', '(NA) 유동부채금액', '(NA) 비유동부채금액', '(NA) 부채총계금액', '(NA) 자본총계금액', '(NA) 부채자본총계금액', '1.063.817천 유로', '(NA) 매출원가금액', '(NA) 판매비관리비금액', '15.759천 유로', '(NA) 기타영업외비용금액', '50.460천 유로', '(NA) 이자수입', '(NA) 기타영업외수익금액', '(계산예정)법인세차감전순이익', '12.168천 유로', '(NA) 영업활동현금흐름금액', '(NA) 투자활동현금흐름금액', '(NA) 재무활동현금흐름금액', '(NA) 기초현금자산금액', '(NA) 기말현금자산금액', '(NA) 부채비율', '(계산예정)영업이익율', '(계산예정)매출액증가율', '(계산예정)영업이익증가율', '(계산예정)당기순이익 증가율', '(계산예정)기업CAGR', '(계산예정)기업 연수', '(계산예정)기업 상태', '주당 가치: € 32.52', None, '(NA) 작업구분코드', '17/05/2022 - 17:40  CET', None, '(NA) 연계처리상태코드', '(NA) 연계처리일자']\n",
      "['NLD', 'Nederland', 'Nederlands', 'NL', 'Nederlands', 'Dutch', 'Amsterdam Commodities', 'EUR', '유로', 'Amsterdam Commodities', '(NA)법인등록번호', '(NA)사업자등록번호', '4510, Food, Beverage and Tobacco', '4510, Food, Beverage and Tobacco', '(NA) 설립일자', '(NA) 시장코드', 'EURONEXT AMSTERDAM', 'EURONEXT AMSTERDAM', '(NA) 상장코드', 'NA 상장일자', 'Source: Cofisem - Last Update: 16 Mar 2022', '(NA) 회계분기', '(NA) 유동자산금액', '(NA) 비유동자산금액', '(NA) 자산총계금액', '(NA) 유동부채금액', '(NA) 비유동부채금액', '(NA) 부채총계금액', '(NA) 자본총계금액', '(NA) 부채자본총계금액', '700.170천 유로', '(NA) 매출원가금액', '(NA) 판매비관리비금액', '-4.176천 유로', '(NA) 기타영업외비용금액', '45.042천 유로', '(NA) 이자수입', '(NA) 기타영업외수익금액', '(계산예정)법인세차감전순이익', '31.107천 유로', '(NA) 영업활동현금흐름금액', '(NA) 투자활동현금흐름금액', '(NA) 재무활동현금흐름금액', '(NA) 기초현금자산금액', '(NA) 기말현금자산금액', '(NA) 부채비율', '(계산예정)영업이익율', '(계산예정)매출액증가율', '(계산예정)영업이익증가율', '(계산예정)당기순이익 증가율', '(계산예정)기업CAGR', '(계산예정)기업 연수', '(계산예정)기업 상태', '주당 가치: € 23.55', None, '(NA) 작업구분코드', '17/05/2022 - 17:40  CET', None, '(NA) 연계처리상태코드', '(NA) 연계처리일자']\n"
     ]
    },
    {
     "name": "stdout",
     "output_type": "stream",
     "text": [
      "['NLD', 'Nederland', 'Nederlands', 'NL', 'Nederlands', 'Dutch', 'APERAM', 'EUR', '유로', 'APERAM', '(NA)법인등록번호', '(NA)사업자등록번호', '5510, Basic Resources', '5510, Basic Resources', '(NA) 설립일자', '(NA) 시장코드', 'EURONEXT AMSTERDAM', 'EURONEXT AMSTERDAM', '(NA) 상장코드', 'NA 상장일자', 'Source: Cofisem - Last Update: 16 May 2022', '(NA) 회계분기', '(NA) 유동자산금액', '(NA) 비유동자산금액', '(NA) 자산총계금액', '(NA) 유동부채금액', '(NA) 비유동부채금액', '(NA) 부채총계금액', '(NA) 자본총계금액', '(NA) 부채자본총계금액', '5.102.000천 유로', '(NA) 매출원가금액', '(NA) 판매비관리비금액', '4.000천 유로', '(NA) 기타영업외비용금액', '1.042.000천 유로', '(NA) 이자수입', '(NA) 기타영업외수익금액', '(계산예정)법인세차감전순이익', '969.000천 유로', '(NA) 영업활동현금흐름금액', '(NA) 투자활동현금흐름금액', '(NA) 재무활동현금흐름금액', '(NA) 기초현금자산금액', '(NA) 기말현금자산금액', '(NA) 부채비율', '(계산예정)영업이익율', '(계산예정)매출액증가율', '(계산예정)영업이익증가율', '(계산예정)당기순이익 증가율', '(계산예정)기업CAGR', '(계산예정)기업 연수', '(계산예정)기업 상태', '주당 가치: € 35.64', None, '(NA) 작업구분코드', '17/05/2022 - 17:40  CET', None, '(NA) 연계처리상태코드', '(NA) 연계처리일자']\n",
      "['NLD', 'Nederland', 'Nederlands', 'NL', 'Nederlands', 'Dutch', 'ARCADIS', 'EUR', '유로', 'ARCADIS', '(NA)법인등록번호', '(NA)사업자등록번호', '5010, Construction and Materials', '5010, Construction and Materials', '(NA) 설립일자', '(NA) 시장코드', 'EURONEXT AMSTERDAM', 'EURONEXT AMSTERDAM', '(NA) 상장코드', 'NA 상장일자', 'Source: Cofisem - Last Update: 16 May 2022', '(NA) 회계분기', '(NA) 유동자산금액', '(NA) 비유동자산금액', '(NA) 자산총계금액', '(NA) 유동부채금액', '(NA) 비유동부채금액', '(NA) 부채총계금액', '(NA) 자본총계금액', '(NA) 부채자본총계금액', '3.378.486천 유로', '(NA) 매출원가금액', '(NA) 판매비관리비금액', '17.987천 유로', '(NA) 기타영업외비용금액', '225.929천 유로', '(NA) 이자수입', '(NA) 기타영업외수익금액', '(계산예정)법인세차감전순이익', '168.219천 유로', '(NA) 영업활동현금흐름금액', '(NA) 투자활동현금흐름금액', '(NA) 재무활동현금흐름금액', '(NA) 기초현금자산금액', '(NA) 기말현금자산금액', '(NA) 부채비율', '(계산예정)영업이익율', '(계산예정)매출액증가율', '(계산예정)영업이익증가율', '(계산예정)당기순이익 증가율', '(계산예정)기업CAGR', '(계산예정)기업 연수', '(계산예정)기업 상태', '주당 가치: € 36.98', None, '(NA) 작업구분코드', '17/05/2022 - 17:40  CET', None, '(NA) 연계처리상태코드', '(NA) 연계처리일자']\n",
      "['NLD', 'Nederland', 'Nederlands', 'NL', 'Nederlands', 'Dutch', 'ARCELORMITTAL SA', 'EUR', '유로', 'ARCELORMITTAL SA', '(NA)법인등록번호', '(NA)사업자등록번호', '5510, Basic Resources', '5510, Basic Resources', '(NA) 설립일자', '(NA) 시장코드', 'EURONEXT AMSTERDAM', 'EURONEXT AMSTERDAM', '(NA) 상장코드', 'NA 상장일자', 'Source: Cofisem - Last Update: 16 May 2022', '(NA) 회계분기', '(NA) 유동자산금액', '(NA) 비유동자산금액', '(NA) 자산총계금액', '(NA) 유동부채금액', '(NA) 비유동부채금액', '(NA) 부채총계금액', '(NA) 자본총계금액', '(NA) 부채자본총계금액', '67.618.333천 유로', '(NA) 매출원가금액', '(NA) 판매비관리비금액', '245.496천 유로', '(NA) 기타영업외비용금액', '14.991.169천 유로', '(NA) 이자수입', '(NA) 기타영업외수익금액', '(계산예정)법인세차감전순이익', '13.745.143천 유로', '(NA) 영업활동현금흐름금액', '(NA) 투자활동현금흐름금액', '(NA) 재무활동현금흐름금액', '(NA) 기초현금자산금액', '(NA) 기말현금자산금액', '(NA) 부채비율', '(계산예정)영업이익율', '(계산예정)매출액증가율', '(계산예정)영업이익증가율', '(계산예정)당기순이익 증가율', '(계산예정)기업CAGR', '(계산예정)기업 연수', '(계산예정)기업 상태', '주당 가치: € 27.61', None, '(NA) 작업구분코드', '17/05/2022 - 17:40  CET', None, '(NA) 연계처리상태코드', '(NA) 연계처리일자']\n"
     ]
    },
    {
     "ename": "NoSuchElementException",
     "evalue": "Message: no such element: Unable to locate element: {\"method\":\"xpath\",\"selector\":\"/html/body/div[2]/div[1]/div/div/div[1]/div/div[2]/div[1]/section/div/div/div/div/div/div[2]/div[3]/div[2]/table/tbody/tr[13]/td\"}\n  (Session info: chrome=101.0.4951.67)\nStacktrace:\nBacktrace:\n\tOrdinal0 [0x00BAB8F3+2406643]\n\tOrdinal0 [0x00B3AF31+1945393]\n\tOrdinal0 [0x00A2C748+837448]\n\tOrdinal0 [0x00A592E0+1020640]\n\tOrdinal0 [0x00A5957B+1021307]\n\tOrdinal0 [0x00A86372+1205106]\n\tOrdinal0 [0x00A742C4+1131204]\n\tOrdinal0 [0x00A84682+1197698]\n\tOrdinal0 [0x00A74096+1130646]\n\tOrdinal0 [0x00A4E636+976438]\n\tOrdinal0 [0x00A4F546+980294]\n\tGetHandleVerifier [0x00E19612+2498066]\n\tGetHandleVerifier [0x00E0C920+2445600]\n\tGetHandleVerifier [0x00C44F2A+579370]\n\tGetHandleVerifier [0x00C43D36+574774]\n\tOrdinal0 [0x00B41C0B+1973259]\n\tOrdinal0 [0x00B46688+1992328]\n\tOrdinal0 [0x00B46775+1992565]\n\tOrdinal0 [0x00B4F8D1+2029777]\n\tBaseThreadInitThunk [0x773FFA29+25]\n\tRtlGetAppContainerNamedObjectPath [0x775F7A9E+286]\n\tRtlGetAppContainerNamedObjectPath [0x775F7A6E+238]\n",
     "output_type": "error",
     "traceback": [
      "\u001b[1;31m---------------------------------------------------------------------------\u001b[0m",
      "\u001b[1;31mNoSuchElementException\u001b[0m                    Traceback (most recent call last)",
      "Input \u001b[1;32mIn [4]\u001b[0m, in \u001b[0;36m<cell line: 51>\u001b[1;34m()\u001b[0m\n\u001b[0;32m     80\u001b[0m driver\u001b[38;5;241m.\u001b[39mfind_element(By\u001b[38;5;241m.\u001b[39mXPATH, value\u001b[38;5;241m=\u001b[39m\u001b[38;5;124m'\u001b[39m\u001b[38;5;124m/html/body/div[2]/div[1]/div/div/div[1]/section/div[2]/div/div/div/div/nav/div/a[3]\u001b[39m\u001b[38;5;124m'\u001b[39m)\u001b[38;5;241m.\u001b[39mclick()\n\u001b[0;32m     81\u001b[0m time\u001b[38;5;241m.\u001b[39msleep(\u001b[38;5;241m5\u001b[39m)\n\u001b[1;32m---> 82\u001b[0m info\u001b[38;5;241m.\u001b[39mappend(\u001b[43mdriver\u001b[49m\u001b[38;5;241;43m.\u001b[39;49m\u001b[43mfind_element\u001b[49m\u001b[43m(\u001b[49m\u001b[43mBy\u001b[49m\u001b[38;5;241;43m.\u001b[39;49m\u001b[43mXPATH\u001b[49m\u001b[43m,\u001b[49m\u001b[43m \u001b[49m\u001b[43mvalue\u001b[49m\u001b[38;5;241;43m=\u001b[39;49m\u001b[38;5;124;43m'\u001b[39;49m\u001b[38;5;124;43m/html/body/div[2]/div[1]/div/div/div[1]/div/div[2]/div[1]/section/div/div/div/div/div/div[2]/div[3]/div[2]/table/tbody/tr[13]/td\u001b[39;49m\u001b[38;5;124;43m'\u001b[39;49m\u001b[43m)\u001b[49m\u001b[38;5;241m.\u001b[39mtext)\n\u001b[0;32m     83\u001b[0m info\u001b[38;5;241m.\u001b[39mappend(\u001b[38;5;124m\"\u001b[39m\u001b[38;5;124m(NA) 회계분기\u001b[39m\u001b[38;5;124m\"\u001b[39m)\n\u001b[0;32m     84\u001b[0m info\u001b[38;5;241m.\u001b[39mappend(\u001b[38;5;124m\"\u001b[39m\u001b[38;5;124m(NA) 유동자산금액\u001b[39m\u001b[38;5;124m\"\u001b[39m)\n",
      "File \u001b[1;32m~\\AppData\\Local\\Programs\\Python\\Python310\\lib\\site-packages\\selenium\\webdriver\\remote\\webdriver.py:1251\u001b[0m, in \u001b[0;36mWebDriver.find_element\u001b[1;34m(self, by, value)\u001b[0m\n\u001b[0;32m   1248\u001b[0m     by \u001b[38;5;241m=\u001b[39m By\u001b[38;5;241m.\u001b[39mCSS_SELECTOR\n\u001b[0;32m   1249\u001b[0m     value \u001b[38;5;241m=\u001b[39m \u001b[38;5;124m'\u001b[39m\u001b[38;5;124m[name=\u001b[39m\u001b[38;5;124m\"\u001b[39m\u001b[38;5;132;01m%s\u001b[39;00m\u001b[38;5;124m\"\u001b[39m\u001b[38;5;124m]\u001b[39m\u001b[38;5;124m'\u001b[39m \u001b[38;5;241m%\u001b[39m value\n\u001b[1;32m-> 1251\u001b[0m \u001b[38;5;28;01mreturn\u001b[39;00m \u001b[38;5;28;43mself\u001b[39;49m\u001b[38;5;241;43m.\u001b[39;49m\u001b[43mexecute\u001b[49m\u001b[43m(\u001b[49m\u001b[43mCommand\u001b[49m\u001b[38;5;241;43m.\u001b[39;49m\u001b[43mFIND_ELEMENT\u001b[49m\u001b[43m,\u001b[49m\u001b[43m \u001b[49m\u001b[43m{\u001b[49m\n\u001b[0;32m   1252\u001b[0m \u001b[43m    \u001b[49m\u001b[38;5;124;43m'\u001b[39;49m\u001b[38;5;124;43musing\u001b[39;49m\u001b[38;5;124;43m'\u001b[39;49m\u001b[43m:\u001b[49m\u001b[43m \u001b[49m\u001b[43mby\u001b[49m\u001b[43m,\u001b[49m\n\u001b[0;32m   1253\u001b[0m \u001b[43m    \u001b[49m\u001b[38;5;124;43m'\u001b[39;49m\u001b[38;5;124;43mvalue\u001b[39;49m\u001b[38;5;124;43m'\u001b[39;49m\u001b[43m:\u001b[49m\u001b[43m \u001b[49m\u001b[43mvalue\u001b[49m\u001b[43m}\u001b[49m\u001b[43m)\u001b[49m[\u001b[38;5;124m'\u001b[39m\u001b[38;5;124mvalue\u001b[39m\u001b[38;5;124m'\u001b[39m]\n",
      "File \u001b[1;32m~\\AppData\\Local\\Programs\\Python\\Python310\\lib\\site-packages\\selenium\\webdriver\\remote\\webdriver.py:430\u001b[0m, in \u001b[0;36mWebDriver.execute\u001b[1;34m(self, driver_command, params)\u001b[0m\n\u001b[0;32m    428\u001b[0m response \u001b[38;5;241m=\u001b[39m \u001b[38;5;28mself\u001b[39m\u001b[38;5;241m.\u001b[39mcommand_executor\u001b[38;5;241m.\u001b[39mexecute(driver_command, params)\n\u001b[0;32m    429\u001b[0m \u001b[38;5;28;01mif\u001b[39;00m response:\n\u001b[1;32m--> 430\u001b[0m     \u001b[38;5;28;43mself\u001b[39;49m\u001b[38;5;241;43m.\u001b[39;49m\u001b[43merror_handler\u001b[49m\u001b[38;5;241;43m.\u001b[39;49m\u001b[43mcheck_response\u001b[49m\u001b[43m(\u001b[49m\u001b[43mresponse\u001b[49m\u001b[43m)\u001b[49m\n\u001b[0;32m    431\u001b[0m     response[\u001b[38;5;124m'\u001b[39m\u001b[38;5;124mvalue\u001b[39m\u001b[38;5;124m'\u001b[39m] \u001b[38;5;241m=\u001b[39m \u001b[38;5;28mself\u001b[39m\u001b[38;5;241m.\u001b[39m_unwrap_value(\n\u001b[0;32m    432\u001b[0m         response\u001b[38;5;241m.\u001b[39mget(\u001b[38;5;124m'\u001b[39m\u001b[38;5;124mvalue\u001b[39m\u001b[38;5;124m'\u001b[39m, \u001b[38;5;28;01mNone\u001b[39;00m))\n\u001b[0;32m    433\u001b[0m     \u001b[38;5;28;01mreturn\u001b[39;00m response\n",
      "File \u001b[1;32m~\\AppData\\Local\\Programs\\Python\\Python310\\lib\\site-packages\\selenium\\webdriver\\remote\\errorhandler.py:247\u001b[0m, in \u001b[0;36mErrorHandler.check_response\u001b[1;34m(self, response)\u001b[0m\n\u001b[0;32m    245\u001b[0m         alert_text \u001b[38;5;241m=\u001b[39m value[\u001b[38;5;124m'\u001b[39m\u001b[38;5;124malert\u001b[39m\u001b[38;5;124m'\u001b[39m]\u001b[38;5;241m.\u001b[39mget(\u001b[38;5;124m'\u001b[39m\u001b[38;5;124mtext\u001b[39m\u001b[38;5;124m'\u001b[39m)\n\u001b[0;32m    246\u001b[0m     \u001b[38;5;28;01mraise\u001b[39;00m exception_class(message, screen, stacktrace, alert_text)  \u001b[38;5;66;03m# type: ignore[call-arg]  # mypy is not smart enough here\u001b[39;00m\n\u001b[1;32m--> 247\u001b[0m \u001b[38;5;28;01mraise\u001b[39;00m exception_class(message, screen, stacktrace)\n",
      "\u001b[1;31mNoSuchElementException\u001b[0m: Message: no such element: Unable to locate element: {\"method\":\"xpath\",\"selector\":\"/html/body/div[2]/div[1]/div/div/div[1]/div/div[2]/div[1]/section/div/div/div/div/div/div[2]/div[3]/div[2]/table/tbody/tr[13]/td\"}\n  (Session info: chrome=101.0.4951.67)\nStacktrace:\nBacktrace:\n\tOrdinal0 [0x00BAB8F3+2406643]\n\tOrdinal0 [0x00B3AF31+1945393]\n\tOrdinal0 [0x00A2C748+837448]\n\tOrdinal0 [0x00A592E0+1020640]\n\tOrdinal0 [0x00A5957B+1021307]\n\tOrdinal0 [0x00A86372+1205106]\n\tOrdinal0 [0x00A742C4+1131204]\n\tOrdinal0 [0x00A84682+1197698]\n\tOrdinal0 [0x00A74096+1130646]\n\tOrdinal0 [0x00A4E636+976438]\n\tOrdinal0 [0x00A4F546+980294]\n\tGetHandleVerifier [0x00E19612+2498066]\n\tGetHandleVerifier [0x00E0C920+2445600]\n\tGetHandleVerifier [0x00C44F2A+579370]\n\tGetHandleVerifier [0x00C43D36+574774]\n\tOrdinal0 [0x00B41C0B+1973259]\n\tOrdinal0 [0x00B46688+1992328]\n\tOrdinal0 [0x00B46775+1992565]\n\tOrdinal0 [0x00B4F8D1+2029777]\n\tBaseThreadInitThunk [0x773FFA29+25]\n\tRtlGetAppContainerNamedObjectPath [0x775F7A9E+286]\n\tRtlGetAppContainerNamedObjectPath [0x775F7A6E+238]\n"
     ]
    }
   ],
   "source": [
    "#Automatic access to netherlands companies list from EURONEXT\n",
    "base_url = \"https://live.euronext.com/\"\n",
    "driver = webdriver.Chrome(path)\n",
    "driver.get('https://live.euronext.com/products/equities/list')\n",
    "time.sleep(2)\n",
    "driver.find_element(By.CSS_SELECTOR, value='#popup-buttons > button.agree-button.eu-cookie-compliance-default-button').click()\n",
    "time.sleep(3)\n",
    "driver.find_element(By.CSS_SELECTOR, value='#div-stocks-data-table > button').click()\n",
    "time.sleep(2)\n",
    "driver.find_element(By.CSS_SELECTOR, value='#collapsePanelCompactGroupheadingitem1').click()\n",
    "time.sleep(5)\n",
    "driver.find_element(By.CSS_SELECTOR, value='#collapsePanelCompactGroup > div:nth-child(1) > div.card-header.panels__header.panels__header--space-between.m-0.bg-transparent > div.panels__column.ml-auto > button > div').click()\n",
    "time.sleep(5)\n",
    "driver.find_element(By.CSS_SELECTOR, value='#edit-market-06--2 > div > label').click()\n",
    "time.sleep(5)\n",
    "driver.find_element(By.CSS_SELECTOR, value='#edit-awl-pd-filters-submit--2').click()\n",
    "\n",
    "#Get each company's link on table - P1\n",
    "time.sleep(4)\n",
    "text = driver.page_source\n",
    "soup = bs4.BeautifulSoup(text,'html.parser')\n",
    "maintable = soup.find('table', id='stocks-data-table')\n",
    "time.sleep(4)\n",
    "all_atag_maintable = maintable.find_all('a')\n",
    "\n",
    "\n",
    "#Get each company's link on table - P2\n",
    "driver.find_element(By.XPATH, value='/html/body/div[2]/div[1]/div/div/div[1]/div[2]/div/main/section/div[3]/div/div/div[1]/div[2]/div[4]/div/a[2]').click()\n",
    "time.sleep(4)\n",
    "text = driver.page_source\n",
    "soup = bs4.BeautifulSoup(text,'html.parser')\n",
    "maintable2 = soup.find('table', id='stocks-data-table')\n",
    "time.sleep(4)\n",
    "all_atag_maintable2 = maintable2.find_all('a')\n",
    "\n",
    "#Merge two link lists\n",
    "all_atag_maintable = all_atag_maintable + all_atag_maintable2\n",
    "\n",
    "company_links = []\n",
    "for a in all_atag_maintable:\n",
    "    company_link = a.attrs[\"href\"]\n",
    "    company_links.append(company_link)\n",
    "\n",
    "# To check if all companies are selected\n",
    "#print(len(company_links))\n",
    "\n",
    "#Main Data Collection\n",
    "for sub in company_links:\n",
    "    driver.get(base_url + sub)\n",
    "    time.sleep(5)\n",
    "    info = []\n",
    "    \n",
    "    info.append(\"NLD\")\n",
    "    info.append(\"Nederland\")\n",
    "    info.append(\"Nederlands\")\n",
    "    info.append(\"NL\")\n",
    "    info.append(\"Nederlands\")\n",
    "    info.append(\"Dutch\")\n",
    "    info.append(driver.find_element(By.CSS_SELECTOR, value='#header-instrument-name > strong').text)\n",
    "    info.append(\"EUR\")\n",
    "    info.append(\"유로\")\n",
    "    info.append(driver.find_element(By.CSS_SELECTOR, value='#header-instrument-name > strong').text)\n",
    "    info.append(\"(NA)법인등록번호\")\n",
    "    info.append(\"(NA)사업자등록번호\")\n",
    "    \n",
    "    driver.find_element(By.XPATH, value='/html/body/div[2]/div[1]/div/div/div[1]/section/div[2]/div/div/div/div/nav/div/a[2]').click()\n",
    "    time.sleep(5)\n",
    "    info.append(driver.find_element(By.CSS_SELECTOR, value='#fs_icb_block > div > div.card-body > div.table-responsive > table > tbody > tr:nth-child(2) > td:nth-child(2)').text)\n",
    "    info.append(driver.find_element(By.CSS_SELECTOR, value='#fs_icb_block > div > div.card-body > div.table-responsive > table > tbody > tr:nth-child(2) > td:nth-child(2)').text)\n",
    "    info.append(\"(NA) 설립일자\")\n",
    "    info.append(\"(NA) 시장코드\")\n",
    "    info.append(\"EURONEXT AMSTERDAM\")\n",
    "    info.append(\"EURONEXT AMSTERDAM\")\n",
    "    info.append(\"(NA) 상장코드\")\n",
    "                \n",
    "    info.append(\"NA 상장일자\")\n",
    "    driver.find_element(By.XPATH, value='/html/body/div[2]/div[1]/div/div/div[1]/section/div[2]/div/div/div/div/nav/div/a[3]').click()\n",
    "    time.sleep(5)\n",
    "    info.append(driver.find_element(By.XPATH, value='/html/body/div[2]/div[1]/div/div/div[1]/div/div[2]/div[1]/section/div/div/div/div/div/div[2]/div[3]/div[2]/table/tbody/tr[12]/td').text)\n",
    "    info.append(\"(NA) 회계분기\")\n",
    "    info.append(\"(NA) 유동자산금액\")\n",
    "    info.append(\"(NA) 비유동자산금액\")\n",
    "    info.append(\"(NA) 자산총계금액\")\n",
    "    info.append(\"(NA) 유동부채금액\")\n",
    "    info.append(\"(NA) 비유동부채금액\")\n",
    "    info.append(\"(NA) 부채총계금액\")\n",
    "    info.append(\"(NA) 자본총계금액\")\n",
    "    info.append(\"(NA) 부채자본총계금액\")\n",
    "    info.append(driver.find_element(By.XPATH, value='/html/body/div[2]/div[1]/div/div/div[1]/div/div[2]/div[1]/section/div/div/div/div/div/div[2]/div[3]/div[2]/table/tbody/tr[1]/td[2]').text + \"천 유로\")\n",
    "    info.append(\"(NA) 매출원가금액\")\n",
    "    info.append(\"(NA) 판매비관리비금액\")\n",
    "    info.append(driver.find_element(By.XPATH, value='/html/body/div[2]/div[1]/div/div/div[1]/div/div[2]/div[1]/section/div/div/div/div/div/div[2]/div[3]/div[2]/table/tbody/tr[4]/td[2]').text + \"천 유로\")\n",
    "    info.append(\"(NA) 기타영업외비용금액\")\n",
    "    info.append(driver.find_element(By.XPATH, value='/html/body/div[2]/div[1]/div/div/div[1]/div/div[2]/div[1]/section/div/div/div/div/div/div[2]/div[3]/div[2]/table/tbody/tr[3]/td[2]').text + \"천 유로\")\n",
    "    info.append(\"(NA) 이자수입\")\n",
    "    info.append(\"(NA) 기타영업외수익금액\")\n",
    "    \n",
    "    info.append(\"(계산예정)법인세차감전순이익\")\n",
    "    \n",
    "    info.append(driver.find_element(By.XPATH, value='/html/body/div[2]/div[1]/div/div/div[1]/div/div[2]/div[1]/section/div/div/div/div/div/div[2]/div[3]/div[2]/table/tbody/tr[7]/td[2]').text + \"천 유로\")\n",
    "    info.append(\"(NA) 영업활동현금흐름금액\")\n",
    "    info.append(\"(NA) 투자활동현금흐름금액\")\n",
    "    info.append(\"(NA) 재무활동현금흐름금액\")\n",
    "    info.append(\"(NA) 기초현금자산금액\")\n",
    "    info.append(\"(NA) 기말현금자산금액\")\n",
    "    info.append(\"(NA) 부채비율\")\n",
    "                \n",
    "    info.append(\"(계산예정)영업이익율\")\n",
    "    info.append(\"(계산예정)매출액증가율\")\n",
    "    info.append(\"(계산예정)영업이익증가율\")\n",
    "    info.append(\"(계산예정)당기순이익 증가율\")\n",
    "    info.append(\"(계산예정)기업CAGR\")\n",
    "    info.append(\"(계산예정)기업 연수\")        \n",
    "    info.append(\"(계산예정)기업 상태\")\n",
    "\n",
    "    driver.find_element(By.CSS_SELECTOR, value='#awl-instrument-page-quicktabs-empty > div > div > nav > div > a.nav-item.nav-link.active').click()\n",
    "    time.sleep(5)\n",
    "    info.append(info.append(\"주당 가치: \" + driver.find_element(By.XPATH, value='/html/body/div[2]/div[1]/div/div/div[1]/section/div[1]/div/div/div/div/div/div[2]/div/div[1]/div[1]/div').text))\n",
    "    info.append(\"(NA) 작업구분코드\")\n",
    "    info.append(info.append(driver.find_element(By.XPATH, value='/html/body/div[2]/div[1]/div/div/div[1]/section/div[1]/div/div/div/div/div/div[2]/div/div[2]/div[2]/div[1]/span').text))\n",
    "    info.append(\"(NA) 연계처리상태코드\")\n",
    "    info.append(\"(NA) 연계처리일자\")\n",
    "    time.sleep(1)\n",
    "    \n",
    "    writing.writerow(info);\n",
    "    print(info)"
   ]
  },
  {
   "cell_type": "markdown",
   "id": "4dc78bde",
   "metadata": {},
   "source": []
  }
 ],
 "metadata": {
  "kernelspec": {
   "display_name": "Python 3 (ipykernel)",
   "language": "python",
   "name": "python3"
  },
  "language_info": {
   "codemirror_mode": {
    "name": "ipython",
    "version": 3
   },
   "file_extension": ".py",
   "mimetype": "text/x-python",
   "name": "python",
   "nbconvert_exporter": "python",
   "pygments_lexer": "ipython3",
   "version": "3.10.4"
  }
 },
 "nbformat": 4,
 "nbformat_minor": 5
}
