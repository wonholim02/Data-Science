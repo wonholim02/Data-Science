{
 "cells": [
  {
   "cell_type": "markdown",
   "id": "478dc276",
   "metadata": {},
   "source": [
    "## Author: Wonho Lim \n",
    "#### E-mail: wonholim02@gmail.com\n",
    "#### Environment: Python 3.10.4 (ipykernel)\n",
    "#### Last Update: 2022-05-18\n",
    "#### Description: Web crawling code for EURONEXT.com, especially for EURONEXT Amsterdam. Can be reused for other country by simple editing."
   ]
  },
  {
   "cell_type": "markdown",
   "id": "8b04d19e",
   "metadata": {},
   "source": [
    "### Utilized BS4 and Selenium Web for Crwaling - Visualized by Pandas"
   ]
  },
  {
   "cell_type": "code",
   "execution_count": 1,
   "id": "769be9e7",
   "metadata": {},
   "outputs": [],
   "source": [
    "import bs4\n",
    "import selenium\n",
    "from selenium import webdriver\n",
    "import time\n",
    "from selenium.webdriver.common.keys import Keys\n",
    "from selenium.webdriver.support.select import Select\n",
    "from selenium.webdriver.common.by import By\n",
    "import csv \n",
    "import pandas as pd \n",
    "from platform import python_version"
   ]
  },
  {
   "attachments": {},
   "cell_type": "markdown",
   "id": "7166ae47",
   "metadata": {},
   "source": [
    "### Environment\n",
    "#### - Chromdriver must be located in local PC that is running. This must be modified to be used."
   ]
  },
  {
   "cell_type": "code",
   "execution_count": 2,
   "id": "a182e50c",
   "metadata": {},
   "outputs": [],
   "source": [
    "path = 'C:\\\\Users\\\\DT\\\\Desktop\\\\자료\\\\chromedriver'"
   ]
  },
  {
   "cell_type": "code",
   "execution_count": 3,
   "id": "91709555",
   "metadata": {
    "scrolled": false
   },
   "outputs": [
    {
     "name": "stdout",
     "output_type": "stream",
     "text": [
      "3.10.4\n"
     ]
    }
   ],
   "source": [
    "print(python_version())"
   ]
  },
  {
   "cell_type": "code",
   "execution_count": 4,
   "id": "230c8770",
   "metadata": {
    "scrolled": false
   },
   "outputs": [
    {
     "name": "stdout",
     "output_type": "stream",
     "text": [
      "1.4.2\n"
     ]
    }
   ],
   "source": [
    "print(pd.__version__)"
   ]
  },
  {
   "cell_type": "markdown",
   "id": "28ecf622",
   "metadata": {},
   "source": [
    "### Basic setting for csv file that will store 재무정보 data - Order of rows are based on 재무정보 데이터소스"
   ]
  },
  {
   "cell_type": "code",
   "execution_count": 5,
   "id": "5a5fe8c2",
   "metadata": {
    "scrolled": true
   },
   "outputs": [
    {
     "data": {
      "text/plain": [
       "438"
      ]
     },
     "execution_count": 5,
     "metadata": {},
     "output_type": "execute_result"
    }
   ],
   "source": [
    "cover = open('DutchData.csv','w', newline='', encoding='CP949')\n",
    "writing = csv.writer(cover)\n",
    "writing.writerow(['헤브론스타국가코드', '현지언어국가명','영문국가명','국가언어코드값','현지언어명','영문언어명','현지언어기업명','통화구분코드','화폐단위명','영문기업명','법인등록번호','사업자등록번호','현지언어산업군명','영문산업군명','설립일자','주식시장코드','현지언어주식시장명','영문주식시장명','상장코드','상장일자','회계연도','회계분기','유동자산금액','비유동자산금액','자산총계금액','유동부채금액','비유동부채금액','부채총계금액','자본총계금액','부채자본총계금액','매출액','매출원가금액','판매비관리비금액','이자비용','기타영업외비용금액','영업이익손실금액','이자수익','기타영업외수익금액','법인세차감전순이익','당기순이익/손실금액','영업활동현금흐름금액','투자활동현금흐름금액','재무활동현금흐름금액','기초현금자산금액','기말현금자산금액','부채비율','영업이익율','매출액증가율','영업이익증가율','당기순이익 증가율','기업CAGR','기업 연수','기업 상태','기업추가정보값','작업구분코드','데이터생성일자','연계처리상태코드','연계처리일자'])"
   ]
  },
  {
   "cell_type": "markdown",
   "id": "053442bf",
   "metadata": {},
   "source": [
    "### Crawled Website\n",
    "EURONEXT MAIN: https://live.euronext.com/en /\n",
    "EURONEXT AMSTERDAM: https://live.euronext.com/en/markets/amsterdam/equities/list"
   ]
  },
  {
   "cell_type": "markdown",
   "id": "1c12e7f4",
   "metadata": {},
   "source": [
    "## This is the main code that crawls data rom EURONEXT. \n",
    "#### - Time sleep was necessary because of comparably long loading time.\n",
    "#### - Uncollectable or unavailable data was displayed as \"(NA) DataName.\"\n",
    "#### - (계산예정) Data Will be calculated and inserted manually later.\n",
    "#### - Sample Visualization is located in the bottom."
   ]
  },
  {
   "cell_type": "code",
   "execution_count": 10,
   "id": "9acd9f3e",
   "metadata": {
    "scrolled": true
   },
   "outputs": [
    {
     "name": "stderr",
     "output_type": "stream",
     "text": [
      "C:\\Users\\DT\\AppData\\Local\\Temp\\ipykernel_2696\\1206225104.py:3: DeprecationWarning: executable_path has been deprecated, please pass in a Service object\n",
      "  driver = webdriver.Chrome(path)\n"
     ]
    },
    {
     "name": "stdout",
     "output_type": "stream",
     "text": [
      "['NLD', 'Nederland', 'Nederlands', 'NL', 'Nederlands', 'Dutch', 'AALBERTS N.V.', 'EUR', '유로', 'AALBERTS N.V.', '(NA)법인등록번호', '(NA)사업자등록번호', '5020, Industrial Goods and Services', '5020, Industrial Goods and Services', '(NA) 설립일자', 'AALB', 'EURONEXT AMSTERDAM', 'EURONEXT AMSTERDAM', 'XAMS', '(NA) 상장일자', '(NA) 회계연도', '(NA) 회계분기', '(NA) 유동자산금액', '(NA) 비유동자산금액', '(NA) 자산총계금액', '(NA) 유동부채금액', '(NA) 비유동부채금액', '(NA) 부채총계금액', '(NA) 자본총계금액', '(NA) 부채자본총계금액', '2.979.100천 유로', '(NA) 매출원가금액', '(NA) 판매비관리비금액', '13.400천 유로', '(NA) 기타영업외비용금액', '506.100천 유로', '(NA) 이자수입', '(NA) 기타영업외수익금액', '(계산예정)법인세차감전순이익', '367.800천 유로', '(NA) 영업활동현금흐름금액', '(NA) 투자활동현금흐름금액', '(NA) 재무활동현금흐름금액', '(NA) 기초현금자산금액', '(NA) 기말현금자산금액', '(NA) 부채비율', '(계산예정)영업이익율', '(계산예정)매출액증가율', '(계산예정)영업이익증가율', '(계산예정)당기순이익 증가율', '(계산예정)기업CAGR', '(계산예정)기업 연수', '(계산예정)기업 상태', '주당가치: 45.28', '(NA) 작업구분코드', '18/05/2022 - 08:47  CET', '(NA) 연계처리상태코드', '(NA) 연계처리일자']\n",
      "['NLD', 'Nederland', 'Nederlands', 'NL', 'Nederlands', 'Dutch', 'ABN AMRO BANK N.V.', 'EUR', '유로', 'ABN AMRO BANK N.V.', '(NA)법인등록번호', '(NA)사업자등록번호', '3010, Banks', '3010, Banks', '(NA) 설립일자', 'ABN', 'EURONEXT AMSTERDAM', 'EURONEXT AMSTERDAM', 'XAMS', '(NA) 상장일자', '(NA) 회계연도', '(NA) 회계분기', '(NA) 유동자산금액', '(NA) 비유동자산금액', '(NA) 자산총계금액', '(NA) 유동부채금액', '(NA) 비유동부채금액', '(NA) 부채총계금액', '(NA) 자본총계금액', '(NA) 부채자본총계금액', '7.597.000천 유로', '(NA) 매출원가금액', '(NA) 판매비관리비금액', '46.000천 유로', '(NA) 기타영업외비용금액', '1.792.000천 유로', '(NA) 이자수입', '(NA) 기타영업외수익금액', '(계산예정)법인세차감전순이익', '1.838.000천 유로', '(NA) 영업활동현금흐름금액', '(NA) 투자활동현금흐름금액', '(NA) 재무활동현금흐름금액', '(NA) 기초현금자산금액', '(NA) 기말현금자산금액', '(NA) 부채비율', '(계산예정)영업이익율', '(계산예정)매출액증가율', '(계산예정)영업이익증가율', '(계산예정)당기순이익 증가율', '(계산예정)기업CAGR', '(계산예정)기업 연수', '(계산예정)기업 상태', '주당가치: 11.91', '(NA) 작업구분코드', '18/05/2022 - 08:48  CET', '(NA) 연계처리상태코드', '(NA) 연계처리일자']\n",
      "['NLD', 'Nederland', 'Nederlands', 'NL', 'Nederlands', 'Dutch', 'Accell Group N.V.', 'EUR', '유로', 'Accell Group N.V.', '(NA)법인등록번호', '(NA)사업자등록번호', '4020, Consumer Products and Services', '4020, Consumer Products and Services', '(NA) 설립일자', 'ACCEL', 'EURONEXT AMSTERDAM', 'EURONEXT AMSTERDAM', 'XAMS', '(NA) 상장일자', '(NA) 회계연도', '(NA) 회계분기', '(NA) 유동자산금액', '(NA) 비유동자산금액', '(NA) 자산총계금액', '(NA) 유동부채금액', '(NA) 비유동부채금액', '(NA) 부채총계금액', '(NA) 자본총계금액', '(NA) 부채자본총계금액', '1.377.112천 유로', '(NA) 매출원가금액', '(NA) 판매비관리비금액', '10.555천 유로', '(NA) 기타영업외비용금액', '110.056천 유로', '(NA) 이자수입', '(NA) 기타영업외수익금액', '(계산예정)법인세차감전순이익', '69.974천 유로', '(NA) 영업활동현금흐름금액', '(NA) 투자활동현금흐름금액', '(NA) 재무활동현금흐름금액', '(NA) 기초현금자산금액', '(NA) 기말현금자산금액', '(NA) 부채비율', '(계산예정)영업이익율', '(계산예정)매출액증가율', '(계산예정)영업이익증가율', '(계산예정)당기순이익 증가율', '(계산예정)기업CAGR', '(계산예정)기업 연수', '(계산예정)기업 상태', '주당가치: 54.30', '(NA) 작업구분코드', '18/05/2022 - 08:15  CET', '(NA) 연계처리상태코드', '(NA) 연계처리일자']\n",
      "['NLD', 'Nederland', 'Nederlands', 'NL', 'Nederlands', 'Dutch', 'ACCSYS TECHNOLOGIES PLC', 'EUR', '유로', 'ACCSYS TECHNOLOGIES PLC', '(NA)법인등록번호', '(NA)사업자등록번호', '5010, Construction and Materials', '5010, Construction and Materials', '(NA) 설립일자', 'AXS', 'EURONEXT AMSTERDAM', 'EURONEXT AMSTERDAM', 'XAMS', '(NA) 상장일자', '(NA) 회계연도', '(NA) 회계분기', '(NA) 유동자산금액', '(NA) 비유동자산금액', '(NA) 자산총계금액', '(NA) 유동부채금액', '(NA) 비유동부채금액', '(NA) 부채총계금액', '(NA) 자본총계금액', '(NA) 부채자본총계금액', '99.803천 유로', '(NA) 매출원가금액', '(NA) 판매비관리비금액', '3.249천 유로', '(NA) 기타영업외비용금액', '4.633천 유로', '(NA) 이자수입', '(NA) 기타영업외수익금액', '(계산예정)법인세차감전순이익', '-911천 유로', '(NA) 영업활동현금흐름금액', '(NA) 투자활동현금흐름금액', '(NA) 재무활동현금흐름금액', '(NA) 기초현금자산금액', '(NA) 기말현금자산금액', '(NA) 부채비율', '(계산예정)영업이익율', '(계산예정)매출액증가율', '(계산예정)영업이익증가율', '(계산예정)당기순이익 증가율', '(계산예정)기업CAGR', '(계산예정)기업 연수', '(계산예정)기업 상태', '주당가치: 1.602', '(NA) 작업구분코드', '18/05/2022 - 07:52  CET', '(NA) 연계처리상태코드', '(NA) 연계처리일자']\n",
      "['NLD', 'Nederland', 'Nederlands', 'NL', 'Nederlands', 'Dutch', 'ADUX', 'EUR', '유로', 'ADUX', '(NA)법인등록번호', '(NA)사업자등록번호', '4030, Media', '4030, Media', '(NA) 설립일자', 'ADUX', 'EURONEXT AMSTERDAM', 'EURONEXT AMSTERDAM', 'XPAR, XAMS', '(NA) 상장일자', '(NA) 회계연도', '(NA) 회계분기', '(NA) 유동자산금액', '(NA) 비유동자산금액', '(NA) 자산총계금액', '(NA) 유동부채금액', '(NA) 비유동부채금액', '(NA) 부채총계금액', '(NA) 자본총계금액', '(NA) 부채자본총계금액', '23.952천 유로', '(NA) 매출원가금액', '(NA) 판매비관리비금액', '56천 유로', '(NA) 기타영업외비용금액', '639천 유로', '(NA) 이자수입', '(NA) 기타영업외수익금액', '(계산예정)법인세차감전순이익', '227천 유로', '(NA) 영업활동현금흐름금액', '(NA) 투자활동현금흐름금액', '(NA) 재무활동현금흐름금액', '(NA) 기초현금자산금액', '(NA) 기말현금자산금액', '(NA) 부채비율', '(계산예정)영업이익율', '(계산예정)매출액증가율', '(계산예정)영업이익증가율', '(계산예정)당기순이익 증가율', '(계산예정)기업CAGR', '(계산예정)기업 연수', '(계산예정)기업 상태', '주당가치: 1.90', '(NA) 작업구분코드', '18/05/2022 - 08:47  CET', '(NA) 연계처리상태코드', '(NA) 연계처리일자']\n",
      "['NLD', 'Nederland', 'Nederlands', 'NL', 'Nederlands', 'Dutch', 'ADYEN', 'EUR', '유로', 'ADYEN', '(NA)법인등록번호', '(NA)사업자등록번호', '5020, Industrial Goods and Services', '5020, Industrial Goods and Services', '(NA) 설립일자', 'ADYEN', 'EURONEXT AMSTERDAM', 'EURONEXT AMSTERDAM', 'XAMS', '(NA) 상장일자', '(NA) 회계연도', '(NA) 회계분기', '(NA) 유동자산금액', '(NA) 비유동자산금액', '(NA) 자산총계금액', '(NA) 유동부채금액', '(NA) 비유동부채금액', '(NA) 부채총계금액', '(NA) 자본총계금액', '(NA) 부채자본총계금액', '5.995.419천 유로', '(NA) 매출원가금액', '(NA) 판매비관리비금액', '11.749천 유로', '(NA) 기타영업외비용금액', '594.981천 유로', '(NA) 이자수입', '(NA) 기타영업외수익금액', '(계산예정)법인세차감전순이익', '469.717천 유로', '(NA) 영업활동현금흐름금액', '(NA) 투자활동현금흐름금액', '(NA) 재무활동현금흐름금액', '(NA) 기초현금자산금액', '(NA) 기말현금자산금액', '(NA) 부채비율', '(계산예정)영업이익율', '(계산예정)매출액증가율', '(계산예정)영업이익증가율', '(계산예정)당기순이익 증가율', '(계산예정)기업CAGR', '(계산예정)기업 연수', '(계산예정)기업 상태', '주당가치: 1,469.00', '(NA) 작업구분코드', '18/05/2022 - 08:50  CET', '(NA) 연계처리상태코드', '(NA) 연계처리일자']\n",
      "['NLD', 'Nederland', 'Nederlands', 'NL', 'Nederlands', 'Dutch', 'AEDIFICA', 'EUR', '유로', 'AEDIFICA', '(NA)법인등록번호', '(NA)사업자등록번호', '3510, Real Estate', '3510, Real Estate', '(NA) 설립일자', 'AED', 'EURONEXT AMSTERDAM', 'EURONEXT AMSTERDAM', 'XBRU, XAMS', '(NA) 상장일자', '(NA) 회계연도', '(NA) 회계분기', '(NA) 유동자산금액', '(NA) 비유동자산금액', '(NA) 자산총계금액', '(NA) 유동부채금액', '(NA) 비유동부채금액', '(NA) 부채총계금액', '(NA) 자본총계금액', '(NA) 부채자본총계금액', '232.118천 유로', '(NA) 매출원가금액', '(NA) 판매비관리비금액', '534천 유로', '(NA) 기타영업외비용금액', '1.583천 유로', '(NA) 이자수입', '(NA) 기타영업외수익금액', '(계산예정)법인세차감전순이익', '6.371천 유로', '(NA) 영업활동현금흐름금액', '(NA) 투자활동현금흐름금액', '(NA) 재무활동현금흐름금액', '(NA) 기초현금자산금액', '(NA) 기말현금자산금액', '(NA) 부채비율', '(계산예정)영업이익율', '(계산예정)매출액증가율', '(계산예정)영업이익증가율', '(계산예정)당기순이익 증가율', '(계산예정)기업CAGR', '(계산예정)기업 연수', '(계산예정)기업 상태', '주당가치: 110.00', '(NA) 작업구분코드', '18/05/2022 - 08:50  CET', '(NA) 연계처리상태코드', '(NA) 연계처리일자']\n"
     ]
    },
    {
     "ename": "AttributeError",
     "evalue": "'NoneType' object has no attribute 'text'",
     "output_type": "error",
     "traceback": [
      "\u001b[1;31m---------------------------------------------------------------------------\u001b[0m",
      "\u001b[1;31mAttributeError\u001b[0m                            Traceback (most recent call last)",
      "Input \u001b[1;32mIn [10]\u001b[0m, in \u001b[0;36m<cell line: 75>\u001b[1;34m()\u001b[0m\n\u001b[0;32m     87\u001b[0m info\u001b[38;5;241m.\u001b[39mappend(\u001b[38;5;124m\"\u001b[39m\u001b[38;5;124mEUR\u001b[39m\u001b[38;5;124m\"\u001b[39m)\n\u001b[0;32m     88\u001b[0m info\u001b[38;5;241m.\u001b[39mappend(\u001b[38;5;124m\"\u001b[39m\u001b[38;5;124m유로\u001b[39m\u001b[38;5;124m\"\u001b[39m)\n\u001b[1;32m---> 89\u001b[0m info\u001b[38;5;241m.\u001b[39mappend(\u001b[43mdriver\u001b[49m\u001b[38;5;241;43m.\u001b[39;49m\u001b[43mfind_element\u001b[49m\u001b[43m(\u001b[49m\u001b[43mBy\u001b[49m\u001b[38;5;241;43m.\u001b[39;49m\u001b[43mCSS_SELECTOR\u001b[49m\u001b[43m,\u001b[49m\u001b[43m \u001b[49m\u001b[43mvalue\u001b[49m\u001b[38;5;241;43m=\u001b[39;49m\u001b[38;5;124;43m'\u001b[39;49m\u001b[38;5;124;43m#header-instrument-name > strong\u001b[39;49m\u001b[38;5;124;43m'\u001b[39;49m\u001b[43m)\u001b[49m\u001b[38;5;241;43m.\u001b[39;49m\u001b[43mtext\u001b[49m)\n\u001b[0;32m     90\u001b[0m info\u001b[38;5;241m.\u001b[39mappend(\u001b[38;5;124m\"\u001b[39m\u001b[38;5;124m(NA)법인등록번호\u001b[39m\u001b[38;5;124m\"\u001b[39m)\n\u001b[0;32m     91\u001b[0m info\u001b[38;5;241m.\u001b[39mappend(\u001b[38;5;124m\"\u001b[39m\u001b[38;5;124m(NA)사업자등록번호\u001b[39m\u001b[38;5;124m\"\u001b[39m)\n",
      "\u001b[1;31mAttributeError\u001b[0m: 'NoneType' object has no attribute 'text'"
     ]
    }
   ],
   "source": [
    "#EURONEXT does not allow us to directly move to Amsterdam list. Automated webdriver moves to the list by itself.\n",
    "base_url = \"https://live.euronext.com/\"\n",
    "driver = webdriver.Chrome(path)\n",
    "driver.get('https://live.euronext.com/products/equities/list')\n",
    "time.sleep(3)\n",
    "driver.find_element(By.CSS_SELECTOR, value='#popup-buttons > button.agree-button.eu-cookie-compliance-default-button').click()\n",
    "time.sleep(3)\n",
    "driver.find_element(By.CSS_SELECTOR, value='#div-stocks-data-table > button').click()\n",
    "time.sleep(3)\n",
    "driver.find_element(By.CSS_SELECTOR, value='#collapsePanelCompactGroupheadingitem1').click()\n",
    "time.sleep(3)\n",
    "driver.find_element(By.CSS_SELECTOR, value='#collapsePanelCompactGroup > div:nth-child(1) > div.card-header.panels__header.panels__header--space-between.m-0.bg-transparent > div.panels__column.ml-auto > button > div').click()\n",
    "time.sleep(3)\n",
    "driver.find_element(By.CSS_SELECTOR, value='#edit-market-06--2 > div > label').click()\n",
    "time.sleep(3)\n",
    "driver.find_element(By.CSS_SELECTOR, value='#edit-awl-pd-filters-submit--2').click()\n",
    "\n",
    "#Get each company's link, market symbol, and market code on table - P1\n",
    "time.sleep(4)\n",
    "text = driver.page_source\n",
    "soup = bs4.BeautifulSoup(text,'html.parser')\n",
    "maintable = soup.find('table', id='stocks-data-table')\n",
    "time.sleep(4)\n",
    "all_atag_maintable = maintable.find_all('a')\n",
    "all_market_maintable = maintable.find_all(attrs={'td',\"stocks-market\"})\n",
    "all_symbol_maintable = maintable.find_all(attrs={'td',\"stocks-symbol\"})\n",
    "\n",
    "#We have to process the collected data again because of their special structure\n",
    "newList3 =[]\n",
    "for a in all_market_maintable :\n",
    "    newList3.append(a.text)\n",
    "newList4 =[]\n",
    "for b in all_symbol_maintable :\n",
    "    newList4.append(b.text)\n",
    "\n",
    "#Get each company's link, market symbol, and market code on table - P1\n",
    "driver.find_element(By.XPATH, value='/html/body/div[2]/div[1]/div/div/div[1]/div[2]/div/main/section/div[3]/div/div/div[1]/div[2]/div[4]/div/a[2]').click()\n",
    "time.sleep(4)\n",
    "text = driver.page_source\n",
    "soup = bs4.BeautifulSoup(text,'html.parser')\n",
    "maintable2 = soup.find('table', id='stocks-data-table')\n",
    "time.sleep(4)\n",
    "all_atag_maintable2 = maintable2.find_all('a')\n",
    "all_market_maintable2 = maintable2.find_all(attrs={'td',\"nowrap pointer\"})\n",
    "all_symbol_maintable2 = maintable2.find_all(attrs={'td',\"stocks-symbol\"})\n",
    "\n",
    "#We have to process the collected data again because of their special structure\n",
    "newList1 =[]\n",
    "for c in all_market_maintable2 :\n",
    "    newList1.append(c.text)\n",
    "\n",
    "newList2 =[]\n",
    "for d in all_symbol_maintable2 :\n",
    "    newList2.append(d.text)\n",
    "    \n",
    "#Merge two lists (from page 1 and 2)\n",
    "all_atag_maintable = all_atag_maintable + all_atag_maintable2\n",
    "all_symbol_maintable = newList3 + newList1\n",
    "all_market_maintable = newList4 + newList2\n",
    "\n",
    "#Final Processing to remove unnecessary data\n",
    "all_symbol_maintable.pop(0)\n",
    "all_market_maintable.pop(0)\n",
    "company_links = []\n",
    "failList = []\n",
    "for a in all_atag_maintable:\n",
    "    company_link = a.attrs[\"href\"]\n",
    "    company_links.append(company_link)\n",
    "    \n",
    "\n",
    "# To check if all companies are selected\n",
    "#print(len(company_links))\n",
    "\n",
    "# Main Data Collection code\n",
    "for sub in company_links:\n",
    "    driver.get(base_url + sub)\n",
    "    time.sleep(4)\n",
    "    info = []\n",
    "    \n",
    "    info.append(\"NLD\")\n",
    "    info.append(\"Nederland\")\n",
    "    info.append(\"Nederlands\")\n",
    "    info.append(\"NL\")\n",
    "    info.append(\"Nederlands\")\n",
    "    info.append(\"Dutch\")\n",
    "    info.append(driver.find_element(By.CSS_SELECTOR, value='#header-instrument-name > strong').text)\n",
    "    info.append(\"EUR\")\n",
    "    info.append(\"유로\")\n",
    "    info.append(driver.find_element(By.CSS_SELECTOR, value='#header-instrument-name > strong').text)\n",
    "    info.append(\"(NA)법인등록번호\")\n",
    "    info.append(\"(NA)사업자등록번호\")\n",
    "    \n",
    "    driver.find_element(By.XPATH, value='/html/body/div[2]/div[1]/div/div/div[1]/section/div[2]/div/div/div/div/nav/div/a[2]').click()\n",
    "    time.sleep(4)\n",
    "    info.append(driver.find_element(By.CSS_SELECTOR, value='#fs_icb_block > div > div.card-body > div.table-responsive > table > tbody > tr:nth-child(2) > td:nth-child(2)').text)\n",
    "    info.append(driver.find_element(By.CSS_SELECTOR, value='#fs_icb_block > div > div.card-body > div.table-responsive > table > tbody > tr:nth-child(2) > td:nth-child(2)').text)\n",
    "    info.append(\"(NA) 설립일자\")\n",
    "    info.append(all_market_maintable.pop(0))\n",
    "    info.append(\"EURONEXT AMSTERDAM\")\n",
    "    info.append(\"EURONEXT AMSTERDAM\")\n",
    "    \n",
    "    info.append(all_symbol_maintable.pop(0))\n",
    "    info.append(\"(NA) 상장일자\")\n",
    "    info.append(\"(NA) 회계연도\")\n",
    "    info.append(\"(NA) 회계분기\")\n",
    "    info.append(\"(NA) 유동자산금액\")\n",
    "    info.append(\"(NA) 비유동자산금액\")\n",
    "    info.append(\"(NA) 자산총계금액\")\n",
    "    info.append(\"(NA) 유동부채금액\")\n",
    "    info.append(\"(NA) 비유동부채금액\")\n",
    "    info.append(\"(NA) 부채총계금액\")\n",
    "    info.append(\"(NA) 자본총계금액\")\n",
    "    info.append(\"(NA) 부채자본총계금액\")\n",
    "    try :\n",
    "        driver.find_element(By.XPATH, value='/html/body/div[2]/div[1]/div/div/div[1]/section/div[2]/div/div/div/div/nav/div/a[3]').click()\n",
    "        time.sleep(4)\n",
    "        info.append(driver.find_element(By.XPATH, value='/html/body/div[2]/div[1]/div/div/div[1]/div/div[2]/div[1]/section/div/div/div/div/div/div[2]/div[3]/div[2]/table/tbody/tr[1]/td[2]').text + \"천 유로\")\n",
    "        info.append(\"(NA) 매출원가금액\")\n",
    "        info.append(\"(NA) 판매비관리비금액\")\n",
    "        info.append(driver.find_element(By.XPATH, value='/html/body/div[2]/div[1]/div/div/div[1]/div/div[2]/div[1]/section/div/div/div/div/div/div[2]/div[3]/div[2]/table/tbody/tr[4]/td[2]').text + \"천 유로\")\n",
    "        info.append(\"(NA) 기타영업외비용금액\")\n",
    "        info.append(driver.find_element(By.XPATH, value='/html/body/div[2]/div[1]/div/div/div[1]/div/div[2]/div[1]/section/div/div/div/div/div/div[2]/div[3]/div[2]/table/tbody/tr[3]/td[2]').text + \"천 유로\")\n",
    "        info.append(\"(NA) 이자수입\")\n",
    "        info.append(\"(NA) 기타영업외수익금액\")\n",
    "        info.append(\"(계산예정)법인세차감전순이익\")\n",
    "        info.append(driver.find_element(By.XPATH, value='/html/body/div[2]/div[1]/div/div/div[1]/div/div[2]/div[1]/section/div/div/div/div/div/div[2]/div[3]/div[2]/table/tbody/tr[7]/td[2]').text + \"천 유로\")\n",
    "    except : \n",
    "        info.append(\"(NA) 매출액\")\n",
    "        info.append(\"(NA) 매출원가금액\")\n",
    "        info.append(\"(NA) 판매비관리비금액\")\n",
    "        info.append(\"(NA) 이자비용\")\n",
    "        info.append(\"(NA) 기타영업외비용금액\")\n",
    "        info.append(\"(NA) 영업이익손실금액\")\n",
    "        info.append(\"(NA) 이자수입\")\n",
    "        info.append(\"(NA) 기타영업외수익금액\")\n",
    "        info.append(\"(계산예정)법인세차감전순이익\")\n",
    "        info.append(\"(NA) 당기순이익\")\n",
    "        failList.append(driver.find_element(By.CSS_SELECTOR, value='#header-instrument-name > strong').text)\n",
    "                    \n",
    "    info.append(\"(NA) 영업활동현금흐름금액\")\n",
    "    info.append(\"(NA) 투자활동현금흐름금액\")\n",
    "    info.append(\"(NA) 재무활동현금흐름금액\")\n",
    "    info.append(\"(NA) 기초현금자산금액\")\n",
    "    info.append(\"(NA) 기말현금자산금액\")\n",
    "    info.append(\"(NA) 부채비율\")\n",
    "                \n",
    "    info.append(\"(계산예정)영업이익율\")\n",
    "    info.append(\"(계산예정)매출액증가율\")\n",
    "    info.append(\"(계산예정)영업이익증가율\")\n",
    "    info.append(\"(계산예정)당기순이익 증가율\")\n",
    "    info.append(\"(계산예정)기업CAGR\")\n",
    "    info.append(\"(계산예정)기업 연수\")        \n",
    "    info.append(\"(계산예정)기업 상태\")\n",
    "\n",
    "    driver.find_element(By.CSS_SELECTOR, value='#awl-instrument-page-quicktabs-empty > div > div > nav > div > a.nav-item.nav-link.active').click()\n",
    "    time.sleep(4)\n",
    "    info.append(\"주당가치: \" + driver.find_element(By.XPATH, value='/html/body/div[2]/div[1]/div/div/div[1]/section/div[1]/div/div/div/div/div/div[2]/div/div[1]/div[1]/div/span[2]').text)\n",
    "    info.append(\"(NA) 작업구분코드\")\n",
    "    info.append(driver.find_element(By.XPATH, value='/html/body/div[2]/div[1]/div/div/div[1]/section/div[1]/div/div/div/div/div/div[2]/div/div[2]/div[2]/div[1]/span').text)\n",
    "    info.append(\"(NA) 연계처리상태코드\")\n",
    "    info.append(\"(NA) 연계처리일자\")\n",
    "    time.sleep(1)\n",
    "    \n",
    "    #Keep data in csv\n",
    "    writing.writerow(info);\n",
    "    \n",
    "    #Visualize\n",
    "    print(info)\n",
    "    \n",
    "#Failed or not fully crawled company list\n",
    "print(failList)"
   ]
  },
  {
   "cell_type": "markdown",
   "id": "2b8e527b",
   "metadata": {},
   "source": [
    "## Data Visualization - Text Version (Sample)"
   ]
  },
  {
   "cell_type": "markdown",
   "id": "6a92d174",
   "metadata": {},
   "source": [
    "##### Standard"
   ]
  },
  {
   "cell_type": "code",
   "execution_count": 29,
   "id": "116256be",
   "metadata": {
    "scrolled": true
   },
   "outputs": [
    {
     "name": "stdout",
     "output_type": "stream",
     "text": [
      "   헤브론스타국가코드    현지언어국가명       영문국가명 국가언어코드값       현지언어명  영문언어명  \\\n",
      "0        NLD  Nederland  Nederlands      NL  Nederlands  Dutch   \n",
      "1        NLD  Nederland  Nederlands      NL  Nederlands  Dutch   \n",
      "2        NLD  Nederland  Nederlands      NL  Nederlands  Dutch   \n",
      "3        NLD  Nederland  Nederlands      NL  Nederlands  Dutch   \n",
      "4        NLD  Nederland  Nederlands      NL  Nederlands  Dutch   \n",
      "5        NLD  Nederland  Nederlands      NL  Nederlands  Dutch   \n",
      "6        NLD  Nederland  Nederlands      NL  Nederlands  Dutch   \n",
      "7        NLD  Nederland  Nederlands      NL  Nederlands  Dutch   \n",
      "8        NLD  Nederland  Nederlands      NL  Nederlands  Dutch   \n",
      "9        NLD  Nederland  Nederlands      NL  Nederlands  Dutch   \n",
      "10       NLD  Nederland  Nederlands      NL  Nederlands  Dutch   \n",
      "11       NLD  Nederland  Nederlands      NL  Nederlands  Dutch   \n",
      "12       NLD  Nederland  Nederlands      NL  Nederlands  Dutch   \n",
      "13       NLD  Nederland  Nederlands      NL  Nederlands  Dutch   \n",
      "14       NLD  Nederland  Nederlands      NL  Nederlands  Dutch   \n",
      "\n",
      "                            현지언어기업명 통화구분코드 화폐단위명  \\\n",
      "0                     AALBERTS N.V.    EUR    유로   \n",
      "1                ABN AMRO BANK N.V.    EUR    유로   \n",
      "2                 Accell Group N.V.    EUR    유로   \n",
      "3           ACCSYS TECHNOLOGIES PLC    EUR    유로   \n",
      "4                              ADUX    EUR    유로   \n",
      "5                             ADYEN    EUR    유로   \n",
      "6                          AEDIFICA    EUR    유로   \n",
      "7                             AEGON    EUR    유로   \n",
      "8   KONINKLIJKE AHOLD DELHAIZE N.V.    EUR    유로   \n",
      "9                   AIR FRANCE -KLM    EUR    유로   \n",
      "10                             AJAX    EUR    유로   \n",
      "11                       AKZO NOBEL    EUR    유로   \n",
      "12                            ALFEN    EUR    유로   \n",
      "13               ALLFUNDS GROUP PLC    EUR    유로   \n",
      "14        Almunda Professional N.V.    EUR    유로   \n",
      "\n",
      "                              영문기업명  ...        영업이익증가율        당기순이익 증가율  \\\n",
      "0                     AALBERTS N.V.  ...  (계산예정)영업이익증가율  (계산예정)당기순이익 증가율   \n",
      "1                ABN AMRO BANK N.V.  ...  (계산예정)영업이익증가율  (계산예정)당기순이익 증가율   \n",
      "2                 Accell Group N.V.  ...  (계산예정)영업이익증가율  (계산예정)당기순이익 증가율   \n",
      "3           ACCSYS TECHNOLOGIES PLC  ...  (계산예정)영업이익증가율  (계산예정)당기순이익 증가율   \n",
      "4                              ADUX  ...  (계산예정)영업이익증가율  (계산예정)당기순이익 증가율   \n",
      "5                             ADYEN  ...  (계산예정)영업이익증가율  (계산예정)당기순이익 증가율   \n",
      "6                          AEDIFICA  ...  (계산예정)영업이익증가율  (계산예정)당기순이익 증가율   \n",
      "7                             AEGON  ...  (계산예정)영업이익증가율  (계산예정)당기순이익 증가율   \n",
      "8   KONINKLIJKE AHOLD DELHAIZE N.V.  ...  (계산예정)영업이익증가율  (계산예정)당기순이익 증가율   \n",
      "9                   AIR FRANCE -KLM  ...  (계산예정)영업이익증가율  (계산예정)당기순이익 증가율   \n",
      "10                             AJAX  ...  (계산예정)영업이익증가율  (계산예정)당기순이익 증가율   \n",
      "11                       AKZO NOBEL  ...  (계산예정)영업이익증가율  (계산예정)당기순이익 증가율   \n",
      "12                            ALFEN  ...  (계산예정)영업이익증가율  (계산예정)당기순이익 증가율   \n",
      "13               ALLFUNDS GROUP PLC  ...  (계산예정)영업이익증가율  (계산예정)당기순이익 증가율   \n",
      "14        Almunda Professional N.V.  ...  (계산예정)영업이익증가율  (계산예정)당기순이익 증가율   \n",
      "\n",
      "          기업CAGR        기업 연수        기업 상태         기업추가정보값       작업구분코드  \\\n",
      "0   (계산예정)기업CAGR  (계산예정)기업 연수  (계산예정)기업 상태     주당가치: 45.28  (NA) 작업구분코드   \n",
      "1   (계산예정)기업CAGR  (계산예정)기업 연수  (계산예정)기업 상태     주당가치: 11.91  (NA) 작업구분코드   \n",
      "2   (계산예정)기업CAGR  (계산예정)기업 연수  (계산예정)기업 상태     주당가치: 54.30  (NA) 작업구분코드   \n",
      "3   (계산예정)기업CAGR  (계산예정)기업 연수  (계산예정)기업 상태     주당가치: 1.602  (NA) 작업구분코드   \n",
      "4   (계산예정)기업CAGR  (계산예정)기업 연수  (계산예정)기업 상태      주당가치: 1.90  (NA) 작업구분코드   \n",
      "5   (계산예정)기업CAGR  (계산예정)기업 연수  (계산예정)기업 상태  주당가치: 1,469.00  (NA) 작업구분코드   \n",
      "6   (계산예정)기업CAGR  (계산예정)기업 연수  (계산예정)기업 상태    주당가치: 110.00  (NA) 작업구분코드   \n",
      "7   (계산예정)기업CAGR  (계산예정)기업 연수  (계산예정)기업 상태     주당가치: 5.056  (NA) 작업구분코드   \n",
      "8   (계산예정)기업CAGR  (계산예정)기업 연수  (계산예정)기업 상태    주당가치: 26.585  (NA) 작업구분코드   \n",
      "9   (계산예정)기업CAGR  (계산예정)기업 연수  (계산예정)기업 상태     주당가치: 3.962  (NA) 작업구분코드   \n",
      "10  (계산예정)기업CAGR  (계산예정)기업 연수  (계산예정)기업 상태     주당가치: 12.30  (NA) 작업구분코드   \n",
      "11  (계산예정)기업CAGR  (계산예정)기업 연수  (계산예정)기업 상태     주당가치: 81.40  (NA) 작업구분코드   \n",
      "12  (계산예정)기업CAGR  (계산예정)기업 연수  (계산예정)기업 상태     주당가치: 94.42  (NA) 작업구분코드   \n",
      "13  (계산예정)기업CAGR  (계산예정)기업 연수  (계산예정)기업 상태     주당가치: 8.145  (NA) 작업구분코드   \n",
      "14  (계산예정)기업CAGR  (계산예정)기업 연수  (계산예정)기업 상태      주당가치: 1.24  (NA) 작업구분코드   \n",
      "\n",
      "                    데이터생성일자       연계처리상태코드       연계처리일자  \n",
      "0   18/05/2022 - 08:37  CET  (NA) 연계처리상태코드  (NA) 연계처리일자  \n",
      "1   18/05/2022 - 08:39  CET  (NA) 연계처리상태코드  (NA) 연계처리일자  \n",
      "2   18/05/2022 - 08:15  CET  (NA) 연계처리상태코드  (NA) 연계처리일자  \n",
      "3   18/05/2022 - 07:52  CET  (NA) 연계처리상태코드  (NA) 연계처리일자  \n",
      "4   18/05/2022 - 07:32  CET  (NA) 연계처리상태코드  (NA) 연계처리일자  \n",
      "5   18/05/2022 - 08:39  CET  (NA) 연계처리상태코드  (NA) 연계처리일자  \n",
      "6   18/05/2022 - 08:40  CET  (NA) 연계처리상태코드  (NA) 연계처리일자  \n",
      "7   18/05/2022 - 08:40  CET  (NA) 연계처리상태코드  (NA) 연계처리일자  \n",
      "8   18/05/2022 - 08:41  CET  (NA) 연계처리상태코드  (NA) 연계처리일자  \n",
      "9   18/05/2022 - 08:42  CET  (NA) 연계처리상태코드  (NA) 연계처리일자  \n",
      "10  18/05/2022 - 07:15  CET  (NA) 연계처리상태코드  (NA) 연계처리일자  \n",
      "11  18/05/2022 - 08:41  CET  (NA) 연계처리상태코드  (NA) 연계처리일자  \n",
      "12  18/05/2022 - 08:40  CET  (NA) 연계처리상태코드  (NA) 연계처리일자  \n",
      "13  18/05/2022 - 08:34  CET  (NA) 연계처리상태코드  (NA) 연계처리일자  \n",
      "14  18/05/2022 - 07:26  CET  (NA) 연계처리상태코드  (NA) 연계처리일자  \n",
      "\n",
      "[15 rows x 58 columns]\n"
     ]
    }
   ],
   "source": [
    "df = pd.read_csv (r'C:\\Users\\DT\\Desktop\\자료\\DutchDataSample.csv')\n",
    "print (df)"
   ]
  },
  {
   "cell_type": "markdown",
   "id": "9d70c52e",
   "metadata": {},
   "source": [
    "##### By rows"
   ]
  },
  {
   "cell_type": "code",
   "execution_count": 20,
   "id": "a5365692",
   "metadata": {
    "scrolled": false
   },
   "outputs": [
    {
     "name": "stdout",
     "output_type": "stream",
     "text": [
      "헤브론스타국가코드,현지언어국가명,영문국가명,국가언어코드값,현지언어명,영문언어명,현지언어기업명,통화구분코드,화폐단위명,영문기업명,법인등록번호,사업자등록번호,현지언어산업군명,영문산업군명,설립일자,주식시장코드,현지언어주식시장명,영문주식시장명,상장코드,상장일자,회계연도,회계분기,유동자산금액,비유동자산금액,자산총계금액,유동부채금액,비유동부채금액,부채총계금액,자본총계금액,부채자본총계금액,매출액,매출원가금액,판매비관리비금액,이자비용,기타영업외비용금액,영업이익손실금액,이자수익,기타영업외수익금액,법인세차감전순이익,당기순이익/손실금액,영업활동현금흐름금액,투자활동현금흐름금액,재무활동현금흐름금액,기초현금자산금액,기말현금자산금액,부채비율,영업이익율,매출액증가율,영업이익증가율,당기순이익 증가율,기업CAGR,기업 연수,기업 상태,기업추가정보값,작업구분코드,데이터생성일자,연계처리상태코드,연계처리일자\n",
      "\n",
      "NLD,Nederland,Nederlands,NL,Nederlands,Dutch,AALBERTS N.V.,EUR,유로,AALBERTS N.V.,(NA)법인등록번호,(NA)사업자등록번호,\"5020, Industrial Goods and Services\",\"5020, Industrial Goods and Services\",(NA) 설립일자,AALB,EURONEXT AMSTERDAM,EURONEXT AMSTERDAM,XAMS,(NA) 상장일자,(NA) 회계연도,(NA) 회계분기,(NA) 유동자산금액,(NA) 비유동자산금액,(NA) 자산총계금액,(NA) 유동부채금액,(NA) 비유동부채금액,(NA) 부채총계금액,(NA) 자본총계금액,(NA) 부채자본총계금액,2.979.100천 유로,(NA) 매출원가금액,(NA) 판매비관리비금액,13.400천 유로,(NA) 기타영업외비용금액,506.100천 유로,(NA) 이자수입,(NA) 기타영업외수익금액,(계산예정)법인세차감전순이익,367.800천 유로,(NA) 영업활동현금흐름금액,(NA) 투자활동현금흐름금액,(NA) 재무활동현금흐름금액,(NA) 기초현금자산금액,(NA) 기말현금자산금액,(NA) 부채비율,(계산예정)영업이익율,(계산예정)매출액증가율,(계산예정)영업이익증가율,(계산예정)당기순이익 증가율,(계산예정)기업CAGR,(계산예정)기업 연수,(계산예정)기업 상태,주당가치: 45.28,(NA) 작업구분코드,18/05/2022 - 08:37  CET,(NA) 연계처리상태코드,(NA) 연계처리일자\n",
      "\n",
      "NLD,Nederland,Nederlands,NL,Nederlands,Dutch,ABN AMRO BANK N.V.,EUR,유로,ABN AMRO BANK N.V.,(NA)법인등록번호,(NA)사업자등록번호,\"3010, Banks\",\"3010, Banks\",(NA) 설립일자,ABN,EURONEXT AMSTERDAM,EURONEXT AMSTERDAM,XAMS,(NA) 상장일자,(NA) 회계연도,(NA) 회계분기,(NA) 유동자산금액,(NA) 비유동자산금액,(NA) 자산총계금액,(NA) 유동부채금액,(NA) 비유동부채금액,(NA) 부채총계금액,(NA) 자본총계금액,(NA) 부채자본총계금액,7.597.000천 유로,(NA) 매출원가금액,(NA) 판매비관리비금액,46.000천 유로,(NA) 기타영업외비용금액,1.792.000천 유로,(NA) 이자수입,(NA) 기타영업외수익금액,(계산예정)법인세차감전순이익,1.838.000천 유로,(NA) 영업활동현금흐름금액,(NA) 투자활동현금흐름금액,(NA) 재무활동현금흐름금액,(NA) 기초현금자산금액,(NA) 기말현금자산금액,(NA) 부채비율,(계산예정)영업이익율,(계산예정)매출액증가율,(계산예정)영업이익증가율,(계산예정)당기순이익 증가율,(계산예정)기업CAGR,(계산예정)기업 연수,(계산예정)기업 상태,주당가치: 11.91,(NA) 작업구분코드,18/05/2022 - 08:39  CET,(NA) 연계처리상태코드,(NA) 연계처리일자\n",
      "\n",
      "NLD,Nederland,Nederlands,NL,Nederlands,Dutch,Accell Group N.V.,EUR,유로,Accell Group N.V.,(NA)법인등록번호,(NA)사업자등록번호,\"4020, Consumer Products and Services\",\"4020, Consumer Products and Services\",(NA) 설립일자,ACCEL,EURONEXT AMSTERDAM,EURONEXT AMSTERDAM,XAMS,(NA) 상장일자,(NA) 회계연도,(NA) 회계분기,(NA) 유동자산금액,(NA) 비유동자산금액,(NA) 자산총계금액,(NA) 유동부채금액,(NA) 비유동부채금액,(NA) 부채총계금액,(NA) 자본총계금액,(NA) 부채자본총계금액,1.377.112천 유로,(NA) 매출원가금액,(NA) 판매비관리비금액,10.555천 유로,(NA) 기타영업외비용금액,110.056천 유로,(NA) 이자수입,(NA) 기타영업외수익금액,(계산예정)법인세차감전순이익,69.974천 유로,(NA) 영업활동현금흐름금액,(NA) 투자활동현금흐름금액,(NA) 재무활동현금흐름금액,(NA) 기초현금자산금액,(NA) 기말현금자산금액,(NA) 부채비율,(계산예정)영업이익율,(계산예정)매출액증가율,(계산예정)영업이익증가율,(계산예정)당기순이익 증가율,(계산예정)기업CAGR,(계산예정)기업 연수,(계산예정)기업 상태,주당가치: 54.30,(NA) 작업구분코드,18/05/2022 - 08:15  CET,(NA) 연계처리상태코드,(NA) 연계처리일자\n",
      "\n",
      "NLD,Nederland,Nederlands,NL,Nederlands,Dutch,ACCSYS TECHNOLOGIES PLC,EUR,유로,ACCSYS TECHNOLOGIES PLC,(NA)법인등록번호,(NA)사업자등록번호,\"5010, Construction and Materials\",\"5010, Construction and Materials\",(NA) 설립일자,AXS,EURONEXT AMSTERDAM,EURONEXT AMSTERDAM,XAMS,(NA) 상장일자,(NA) 회계연도,(NA) 회계분기,(NA) 유동자산금액,(NA) 비유동자산금액,(NA) 자산총계금액,(NA) 유동부채금액,(NA) 비유동부채금액,(NA) 부채총계금액,(NA) 자본총계금액,(NA) 부채자본총계금액,99.803천 유로,(NA) 매출원가금액,(NA) 판매비관리비금액,3.249천 유로,(NA) 기타영업외비용금액,4.633천 유로,(NA) 이자수입,(NA) 기타영업외수익금액,(계산예정)법인세차감전순이익,-911천 유로,(NA) 영업활동현금흐름금액,(NA) 투자활동현금흐름금액,(NA) 재무활동현금흐름금액,(NA) 기초현금자산금액,(NA) 기말현금자산금액,(NA) 부채비율,(계산예정)영업이익율,(계산예정)매출액증가율,(계산예정)영업이익증가율,(계산예정)당기순이익 증가율,(계산예정)기업CAGR,(계산예정)기업 연수,(계산예정)기업 상태,주당가치: 1.602,(NA) 작업구분코드,18/05/2022 - 07:52  CET,(NA) 연계처리상태코드,(NA) 연계처리일자\n",
      "\n",
      "NLD,Nederland,Nederlands,NL,Nederlands,Dutch,ADUX,EUR,유로,ADUX,(NA)법인등록번호,(NA)사업자등록번호,\"4030, Media\",\"4030, Media\",(NA) 설립일자,ADUX,EURONEXT AMSTERDAM,EURONEXT AMSTERDAM,\"XPAR, XAMS\",(NA) 상장일자,(NA) 회계연도,(NA) 회계분기,(NA) 유동자산금액,(NA) 비유동자산금액,(NA) 자산총계금액,(NA) 유동부채금액,(NA) 비유동부채금액,(NA) 부채총계금액,(NA) 자본총계금액,(NA) 부채자본총계금액,23.952천 유로,(NA) 매출원가금액,(NA) 판매비관리비금액,56천 유로,(NA) 기타영업외비용금액,639천 유로,(NA) 이자수입,(NA) 기타영업외수익금액,(계산예정)법인세차감전순이익,227천 유로,(NA) 영업활동현금흐름금액,(NA) 투자활동현금흐름금액,(NA) 재무활동현금흐름금액,(NA) 기초현금자산금액,(NA) 기말현금자산금액,(NA) 부채비율,(계산예정)영업이익율,(계산예정)매출액증가율,(계산예정)영업이익증가율,(계산예정)당기순이익 증가율,(계산예정)기업CAGR,(계산예정)기업 연수,(계산예정)기업 상태,주당가치: 1.90,(NA) 작업구분코드,18/05/2022 - 07:32  CET,(NA) 연계처리상태코드,(NA) 연계처리일자\n",
      "\n",
      "NLD,Nederland,Nederlands,NL,Nederlands,Dutch,ADYEN,EUR,유로,ADYEN,(NA)법인등록번호,(NA)사업자등록번호,\"5020, Industrial Goods and Services\",\"5020, Industrial Goods and Services\",(NA) 설립일자,ADYEN,EURONEXT AMSTERDAM,EURONEXT AMSTERDAM,XAMS,(NA) 상장일자,(NA) 회계연도,(NA) 회계분기,(NA) 유동자산금액,(NA) 비유동자산금액,(NA) 자산총계금액,(NA) 유동부채금액,(NA) 비유동부채금액,(NA) 부채총계금액,(NA) 자본총계금액,(NA) 부채자본총계금액,5.995.419천 유로,(NA) 매출원가금액,(NA) 판매비관리비금액,11.749천 유로,(NA) 기타영업외비용금액,594.981천 유로,(NA) 이자수입,(NA) 기타영업외수익금액,(계산예정)법인세차감전순이익,469.717천 유로,(NA) 영업활동현금흐름금액,(NA) 투자활동현금흐름금액,(NA) 재무활동현금흐름금액,(NA) 기초현금자산금액,(NA) 기말현금자산금액,(NA) 부채비율,(계산예정)영업이익율,(계산예정)매출액증가율,(계산예정)영업이익증가율,(계산예정)당기순이익 증가율,(계산예정)기업CAGR,(계산예정)기업 연수,(계산예정)기업 상태,\"주당가치: 1,469.00\",(NA) 작업구분코드,18/05/2022 - 08:39  CET,(NA) 연계처리상태코드,(NA) 연계처리일자\n",
      "\n",
      "NLD,Nederland,Nederlands,NL,Nederlands,Dutch,AEDIFICA,EUR,유로,AEDIFICA,(NA)법인등록번호,(NA)사업자등록번호,\"3510, Real Estate\",\"3510, Real Estate\",(NA) 설립일자,AED,EURONEXT AMSTERDAM,EURONEXT AMSTERDAM,\"XBRU, XAMS\",(NA) 상장일자,(NA) 회계연도,(NA) 회계분기,(NA) 유동자산금액,(NA) 비유동자산금액,(NA) 자산총계금액,(NA) 유동부채금액,(NA) 비유동부채금액,(NA) 부채총계금액,(NA) 자본총계금액,(NA) 부채자본총계금액,232.118천 유로,(NA) 매출원가금액,(NA) 판매비관리비금액,534천 유로,(NA) 기타영업외비용금액,1.583천 유로,(NA) 이자수입,(NA) 기타영업외수익금액,(계산예정)법인세차감전순이익,6.371천 유로,(NA) 영업활동현금흐름금액,(NA) 투자활동현금흐름금액,(NA) 재무활동현금흐름금액,(NA) 기초현금자산금액,(NA) 기말현금자산금액,(NA) 부채비율,(계산예정)영업이익율,(계산예정)매출액증가율,(계산예정)영업이익증가율,(계산예정)당기순이익 증가율,(계산예정)기업CAGR,(계산예정)기업 연수,(계산예정)기업 상태,주당가치: 110.00,(NA) 작업구분코드,18/05/2022 - 08:40  CET,(NA) 연계처리상태코드,(NA) 연계처리일자\n",
      "\n",
      "NLD,Nederland,Nederlands,NL,Nederlands,Dutch,AEGON,EUR,유로,AEGON,(NA)법인등록번호,(NA)사업자등록번호,\"3030, Insurance\",\"3030, Insurance\",(NA) 설립일자,AGN,EURONEXT AMSTERDAM,EURONEXT AMSTERDAM,XAMS,(NA) 상장일자,(NA) 회계연도,(NA) 회계분기,(NA) 유동자산금액,(NA) 비유동자산금액,(NA) 자산총계금액,(NA) 유동부채금액,(NA) 비유동부채금액,(NA) 부채총계금액,(NA) 자본총계금액,(NA) 부채자본총계금액,15.444.000천 유로,(NA) 매출원가금액,(NA) 판매비관리비금액,53.423.000천 유로,(NA) 기타영업외비용금액,30.815.000천 유로,(NA) 이자수입,(NA) 기타영업외수익금액,(계산예정)법인세차감전순이익,377.000천 유로,(NA) 영업활동현금흐름금액,(NA) 투자활동현금흐름금액,(NA) 재무활동현금흐름금액,(NA) 기초현금자산금액,(NA) 기말현금자산금액,(NA) 부채비율,(계산예정)영업이익율,(계산예정)매출액증가율,(계산예정)영업이익증가율,(계산예정)당기순이익 증가율,(계산예정)기업CAGR,(계산예정)기업 연수,(계산예정)기업 상태,주당가치: 5.056,(NA) 작업구분코드,18/05/2022 - 08:40  CET,(NA) 연계처리상태코드,(NA) 연계처리일자\n",
      "\n",
      "NLD,Nederland,Nederlands,NL,Nederlands,Dutch,KONINKLIJKE AHOLD DELHAIZE N.V.,EUR,유로,KONINKLIJKE AHOLD DELHAIZE N.V.,(NA)법인등록번호,(NA)사업자등록번호,\"4520, Personal Care, Drug and Grocery Stores\",\"4520, Personal Care, Drug and Grocery Stores\",(NA) 설립일자,AD,EURONEXT AMSTERDAM,EURONEXT AMSTERDAM,\"XAMS, XBRU\",(NA) 상장일자,(NA) 회계연도,(NA) 회계분기,(NA) 유동자산금액,(NA) 비유동자산금액,(NA) 자산총계금액,(NA) 유동부채금액,(NA) 비유동부채금액,(NA) 부채총계금액,(NA) 자본총계금액,(NA) 부채자본총계금액,75.601.000천 유로,(NA) 매출원가금액,(NA) 판매비관리비금액,506.000천 유로,(NA) 기타영업외비용금액,3.320.000천 유로,(NA) 이자수입,(NA) 기타영업외수익금액,(계산예정)법인세차감전순이익,2.246.000천 유로,(NA) 영업활동현금흐름금액,(NA) 투자활동현금흐름금액,(NA) 재무활동현금흐름금액,(NA) 기초현금자산금액,(NA) 기말현금자산금액,(NA) 부채비율,(계산예정)영업이익율,(계산예정)매출액증가율,(계산예정)영업이익증가율,(계산예정)당기순이익 증가율,(계산예정)기업CAGR,(계산예정)기업 연수,(계산예정)기업 상태,주당가치: 26.585,(NA) 작업구분코드,18/05/2022 - 08:41  CET,(NA) 연계처리상태코드,(NA) 연계처리일자\n",
      "\n",
      "NLD,Nederland,Nederlands,NL,Nederlands,Dutch,AIR FRANCE -KLM,EUR,유로,AIR FRANCE -KLM,(NA)법인등록번호,(NA)사업자등록번호,\"4050, Travel and Leisure\",\"4050, Travel and Leisure\",(NA) 설립일자,AF,EURONEXT AMSTERDAM,EURONEXT AMSTERDAM,\"XPAR, XAMS\",(NA) 상장일자,(NA) 회계연도,(NA) 회계분기,(NA) 유동자산금액,(NA) 비유동자산금액,(NA) 자산총계금액,(NA) 유동부채금액,(NA) 비유동부채금액,(NA) 부채총계금액,(NA) 자본총계금액,(NA) 부채자본총계금액,14.315.000천 유로,(NA) 매출원가금액,(NA) 판매비관리비금액,728.000천 유로,(NA) 기타영업외비용금액,-2.532.000천 유로,(NA) 이자수입,(NA) 기타영업외수익금액,(계산예정)법인세차감전순이익,-3.294.000천 유로,(NA) 영업활동현금흐름금액,(NA) 투자활동현금흐름금액,(NA) 재무활동현금흐름금액,(NA) 기초현금자산금액,(NA) 기말현금자산금액,(NA) 부채비율,(계산예정)영업이익율,(계산예정)매출액증가율,(계산예정)영업이익증가율,(계산예정)당기순이익 증가율,(계산예정)기업CAGR,(계산예정)기업 연수,(계산예정)기업 상태,주당가치: 3.962,(NA) 작업구분코드,18/05/2022 - 08:42  CET,(NA) 연계처리상태코드,(NA) 연계처리일자\n",
      "\n",
      "NLD,Nederland,Nederlands,NL,Nederlands,Dutch,AJAX,EUR,유로,AJAX,(NA)법인등록번호,(NA)사업자등록번호,\"4050, Travel and Leisure\",\"4050, Travel and Leisure\",(NA) 설립일자,AJAX,EURONEXT AMSTERDAM,EURONEXT AMSTERDAM,XAMS,(NA) 상장일자,(NA) 회계연도,(NA) 회계분기,(NA) 유동자산금액,(NA) 비유동자산금액,(NA) 자산총계금액,(NA) 유동부채금액,(NA) 비유동부채금액,(NA) 부채총계금액,(NA) 자본총계금액,(NA) 부채자본총계금액,125.159천 유로,(NA) 매출원가금액,(NA) 판매비관리비금액,1.818천 유로,(NA) 기타영업외비용금액,-7.590천 유로,(NA) 이자수입,(NA) 기타영업외수익금액,(계산예정)법인세차감전순이익,-8.105천 유로,(NA) 영업활동현금흐름금액,(NA) 투자활동현금흐름금액,(NA) 재무활동현금흐름금액,(NA) 기초현금자산금액,(NA) 기말현금자산금액,(NA) 부채비율,(계산예정)영업이익율,(계산예정)매출액증가율,(계산예정)영업이익증가율,(계산예정)당기순이익 증가율,(계산예정)기업CAGR,(계산예정)기업 연수,(계산예정)기업 상태,주당가치: 12.30,(NA) 작업구분코드,18/05/2022 - 07:15  CET,(NA) 연계처리상태코드,(NA) 연계처리일자\n",
      "\n",
      "NLD,Nederland,Nederlands,NL,Nederlands,Dutch,AKZO NOBEL,EUR,유로,AKZO NOBEL,(NA)법인등록번호,(NA)사업자등록번호,\"5520, Chemicals\",\"5520, Chemicals\",(NA) 설립일자,AKZA,EURONEXT AMSTERDAM,EURONEXT AMSTERDAM,XAMS,(NA) 상장일자,(NA) 회계연도,(NA) 회계분기,(NA) 유동자산금액,(NA) 비유동자산금액,(NA) 자산총계금액,(NA) 유동부채금액,(NA) 비유동부채금액,(NA) 부채총계금액,(NA) 자본총계금액,(NA) 부채자본총계금액,9.587.000천 유로,(NA) 매출원가금액,(NA) 판매비관리비금액,62.000천 유로,(NA) 기타영업외비용금액,1.118.000천 유로,(NA) 이자수입,(NA) 기타영업외수익금액,(계산예정)법인세차감전순이익,865.000천 유로,(NA) 영업활동현금흐름금액,(NA) 투자활동현금흐름금액,(NA) 재무활동현금흐름금액,(NA) 기초현금자산금액,(NA) 기말현금자산금액,(NA) 부채비율,(계산예정)영업이익율,(계산예정)매출액증가율,(계산예정)영업이익증가율,(계산예정)당기순이익 증가율,(계산예정)기업CAGR,(계산예정)기업 연수,(계산예정)기업 상태,주당가치: 81.40,(NA) 작업구분코드,18/05/2022 - 08:41  CET,(NA) 연계처리상태코드,(NA) 연계처리일자\n",
      "\n",
      "NLD,Nederland,Nederlands,NL,Nederlands,Dutch,ALFEN,EUR,유로,ALFEN,(NA)법인등록번호,(NA)사업자등록번호,\"5020, Industrial Goods and Services\",\"5020, Industrial Goods and Services\",(NA) 설립일자,ALFEN,EURONEXT AMSTERDAM,EURONEXT AMSTERDAM,XAMS,(NA) 상장일자,(NA) 회계연도,(NA) 회계분기,(NA) 유동자산금액,(NA) 비유동자산금액,(NA) 자산총계금액,(NA) 유동부채금액,(NA) 비유동부채금액,(NA) 부채총계금액,(NA) 자본총계금액,(NA) 부채자본총계금액,249.679천 유로,(NA) 매출원가금액,(NA) 판매비관리비금액,992천 유로,(NA) 기타영업외비용금액,27.690천 유로,(NA) 이자수입,(NA) 기타영업외수익금액,(계산예정)법인세차감전순이익,21.450천 유로,(NA) 영업활동현금흐름금액,(NA) 투자활동현금흐름금액,(NA) 재무활동현금흐름금액,(NA) 기초현금자산금액,(NA) 기말현금자산금액,(NA) 부채비율,(계산예정)영업이익율,(계산예정)매출액증가율,(계산예정)영업이익증가율,(계산예정)당기순이익 증가율,(계산예정)기업CAGR,(계산예정)기업 연수,(계산예정)기업 상태,주당가치: 94.42,(NA) 작업구분코드,18/05/2022 - 08:40  CET,(NA) 연계처리상태코드,(NA) 연계처리일자\n",
      "\n",
      "NLD,Nederland,Nederlands,NL,Nederlands,Dutch,ALLFUNDS GROUP PLC,EUR,유로,ALLFUNDS GROUP PLC,(NA)법인등록번호,(NA)사업자등록번호,\"3020, Financial Services\",\"3020, Financial Services\",(NA) 설립일자,ALLFG,EURONEXT AMSTERDAM,EURONEXT AMSTERDAM,XAMS,(NA) 상장일자,(NA) 회계연도,(NA) 회계분기,(NA) 유동자산금액,(NA) 비유동자산금액,(NA) 자산총계금액,(NA) 유동부채금액,(NA) 비유동부채금액,(NA) 부채총계금액,(NA) 자본총계금액,(NA) 부채자본총계금액,천 유로,(NA) 매출원가금액,(NA) 판매비관리비금액,천 유로,(NA) 기타영업외비용금액,505.689천 유로,(NA) 이자수입,(NA) 기타영업외수익금액,(계산예정)법인세차감전순이익,91.757천 유로,(NA) 영업활동현금흐름금액,(NA) 투자활동현금흐름금액,(NA) 재무활동현금흐름금액,(NA) 기초현금자산금액,(NA) 기말현금자산금액,(NA) 부채비율,(계산예정)영업이익율,(계산예정)매출액증가율,(계산예정)영업이익증가율,(계산예정)당기순이익 증가율,(계산예정)기업CAGR,(계산예정)기업 연수,(계산예정)기업 상태,주당가치: 8.145,(NA) 작업구분코드,18/05/2022 - 08:34  CET,(NA) 연계처리상태코드,(NA) 연계처리일자\n",
      "\n",
      "NLD,Nederland,Nederlands,NL,Nederlands,Dutch,Almunda Professional N.V.,EUR,유로,Almunda Professional N.V.,(NA)법인등록번호,(NA)사업자등록번호,\"5020, Industrial Goods and Services\",\"5020, Industrial Goods and Services\",(NA) 설립일자,AMUND,EURONEXT AMSTERDAM,EURONEXT AMSTERDAM,XAMS,(NA) 상장일자,(NA) 회계연도,(NA) 회계분기,(NA) 유동자산금액,(NA) 비유동자산금액,(NA) 자산총계금액,(NA) 유동부채금액,(NA) 비유동부채금액,(NA) 부채총계금액,(NA) 자본총계금액,(NA) 부채자본총계금액,0천 유로,(NA) 매출원가금액,(NA) 판매비관리비금액,천 유로,(NA) 기타영업외비용금액,12.615천 유로,(NA) 이자수입,(NA) 기타영업외수익금액,(계산예정)법인세차감전순이익,787천 유로,(NA) 영업활동현금흐름금액,(NA) 투자활동현금흐름금액,(NA) 재무활동현금흐름금액,(NA) 기초현금자산금액,(NA) 기말현금자산금액,(NA) 부채비율,(계산예정)영업이익율,(계산예정)매출액증가율,(계산예정)영업이익증가율,(계산예정)당기순이익 증가율,(계산예정)기업CAGR,(계산예정)기업 연수,(계산예정)기업 상태,주당가치: 1.24,(NA) 작업구분코드,18/05/2022 - 07:26  CET,(NA) 연계처리상태코드,(NA) 연계처리일자\n",
      "\n"
     ]
    }
   ],
   "source": [
    "with open(\"DutchData.csv\", \"r\") as table:\n",
    "    for row in table:\n",
    "        print(row)"
   ]
  },
  {
   "cell_type": "markdown",
   "id": "b2630ad8",
   "metadata": {},
   "source": [
    "##### Headers"
   ]
  },
  {
   "cell_type": "code",
   "execution_count": 13,
   "id": "310fc59b",
   "metadata": {
    "scrolled": true
   },
   "outputs": [
    {
     "name": "stdout",
     "output_type": "stream",
     "text": [
      "['헤브론스타국가코드', '현지언어국가명', '영문국가명', '국가언어코드값', '현지언어명', '영문언어명', '현지언어기업명', '통화구분코드', '화폐단위명', '영문기업명', '법인등록번호', '사업자등록번호', '현지언어산업군명', '영문산업군명', '설립일자', '주식시장코드', '현지언어주식시장명', '영문주식시장명', '상장코드', '상장일자', '회계연도', '회계분기', '유동자산금액', '비유동자산금액', '자산총계금액', '유동부채금액', '비유동부채금액', '부채총계금액', '자본총계금액', '부채자본총계금액', '매출액', '매출원가금액', '판매비관리비금액', '이자비용', '기타영업외비용금액', '영업이익손실금액', '이자수익', '기타영업외수익금액', '법인세차감전순이익', '당기순이익/손실금액', '영업활동현금흐름금액', '투자활동현금흐름금액', '재무활동현금흐름금액', '기초현금자산금액', '기말현금자산금액', '부채비율', '영업이익율', '매출액증가율', '영업이익증가율', '당기순이익 증가율', '기업CAGR', '기업 연수', '기업 상태', '기업추가정보값', '작업구분코드', '데이터생성일자', '연계처리상태코드', '연계처리일자']\n"
     ]
    }
   ],
   "source": [
    "file = open(\"DutchData.csv\")\n",
    "csvreader = csv.reader(file)\n",
    "header = next(csvreader)\n",
    "print(header)"
   ]
  }
 ],
 "metadata": {
  "kernelspec": {
   "display_name": "Python 3 (ipykernel)",
   "language": "python",
   "name": "python3"
  },
  "language_info": {
   "codemirror_mode": {
    "name": "ipython",
    "version": 3
   },
   "file_extension": ".py",
   "mimetype": "text/x-python",
   "name": "python",
   "nbconvert_exporter": "python",
   "pygments_lexer": "ipython3",
   "version": "3.10.4"
  }
 },
 "nbformat": 4,
 "nbformat_minor": 5
}
